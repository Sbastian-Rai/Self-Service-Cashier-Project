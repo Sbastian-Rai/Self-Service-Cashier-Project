{
  "cells": [
    {
      "cell_type": "markdown",
      "metadata": {
        "id": "7eGAGMqv-3eT"
      },
      "source": [
        "# Olyst Marketplace Analysis\n",
        "\n",
        "***Projet data wrangling dan SQL oleh M Sbastian Rai***\n",
        "\n",
        "Project ini merupakan bagian dari project siswa kelas Data Analisis Pacmann Academy.\n",
        "\n",
        "Dalam project ini, analisis data dilakukan terhadap database (.db) dari Olyst Marketplace.\n",
        "\n",
        "Analisis data dibatasi melalui tujuan-tujuan berikut:\n",
        "\n",
        "Objectives:\n",
        "\n",
        "1.   Mengetahui kategori produk dengan pemesanan terbesar dan terkecil\n",
        "2.   Mengetahui pendapatan dari penjualan tiap kategori produk\n",
        "3.   Mengetahui produk dengan ketidaksedeiaan dan pembatalan terbesar terbesar\n",
        "4.   Mengetahui sebaran state dengan pembelian terbanyak\n",
        "5. Melakukan analisis khusus terhadap penilaian review dari wilayah dengan pemesanan terbesar\n"
      ]
    },
    {
      "cell_type": "markdown",
      "source": [
        "# **DATA PREPARATION**"
      ],
      "metadata": {
        "id": "cJUfMbxBP1yE"
      }
    },
    {
      "cell_type": "markdown",
      "source": [
        "TAHAP 1: MENGIMPORT DATA"
      ],
      "metadata": {
        "id": "vFUtDeyjn5z7"
      }
    },
    {
      "cell_type": "code",
      "execution_count": null,
      "metadata": {
        "colab": {
          "base_uri": "https://localhost:8080/"
        },
        "id": "MXmBGBrrQFeA",
        "outputId": "fbbfce16-e0d6-4acc-e164-95d9b3cf9c34"
      },
      "outputs": [
        {
          "output_type": "execute_result",
          "data": {
            "text/plain": [
              "<function warnings.filterwarnings(action, message='', category=<class 'Warning'>, module='', lineno=0, append=False)>"
            ]
          },
          "metadata": {},
          "execution_count": 94
        }
      ],
      "source": [
        "#Import library\n",
        "import pandas as pd\n",
        "import numpy as np\n",
        "import seaborn as sns\n",
        "import matplotlib.pyplot as plt\n",
        "import sqlite3\n",
        "import warnings\n",
        "\n",
        "\n",
        "warnings.filterwarnings"
      ]
    },
    {
      "cell_type": "code",
      "execution_count": null,
      "metadata": {
        "id": "9JEJLySKfzLu"
      },
      "outputs": [],
      "source": [
        "#IMPORTING FILE\n",
        "\n",
        "from google.colab import files"
      ]
    },
    {
      "cell_type": "markdown",
      "source": [
        "TAHAP 2: MEMBUAT FUNGSI UNTUK MEN-SETTING DATA"
      ],
      "metadata": {
        "id": "0GMCeVNOoEVU"
      }
    },
    {
      "cell_type": "code",
      "execution_count": null,
      "metadata": {
        "id": "7sMS2jv_x9U3"
      },
      "outputs": [],
      "source": [
        "#FUNCTION 1: LOADING THE DATA\n",
        "\n",
        "def load_data(query):\n",
        "    con = sqlite3.connect(\"/content/drive/MyDrive/Google Collab/Salinan olist.db\")\n",
        "    cur = con.cursor()\n",
        "    cur.execute(query)\n",
        "    data = cur.fetchall()\n",
        "    con.close()\n",
        "\n",
        "    return data\n"
      ]
    },
    {
      "cell_type": "code",
      "execution_count": null,
      "metadata": {
        "id": "mcEOdg9NckEP"
      },
      "outputs": [],
      "source": [
        "#FUNCTION 2: CREATING THE DATAFRAME\n",
        "\n",
        "def create_df(query):\n",
        "    # to load data\n",
        "    con = sqlite3.connect(\"/content/drive/MyDrive/Google Collab/Salinan olist.db\")\n",
        "    cur = con.cursor()\n",
        "    cur.execute(query)\n",
        "    data = cur.fetchall()\n",
        "\n",
        "    # to create dataframe\n",
        "    col_names = [desc [0] for desc in cur.description]\n",
        "    df = pd.DataFrame(data, columns=col_names)\n",
        "    con.close()\n",
        "\n",
        "    return df"
      ]
    },
    {
      "cell_type": "markdown",
      "source": [
        "TAHAP 3: MENGAKSES DATABASE DAN MENYELEKSI DATA"
      ],
      "metadata": {
        "id": "SrSubfGJoLzi"
      }
    },
    {
      "cell_type": "code",
      "execution_count": null,
      "metadata": {
        "id": "9oiLDdJEfAN0",
        "colab": {
          "base_uri": "https://localhost:8080/"
        },
        "outputId": "f5808edf-ee0a-4331-ebe7-f934d148ec0b"
      },
      "outputs": [
        {
          "output_type": "execute_result",
          "data": {
            "text/plain": [
              "[('olist_order_customer_dataset',),\n",
              " ('olist_order_dataset',),\n",
              " ('olist_order_reviews_dataset',),\n",
              " ('olist_order_payments_dataset',),\n",
              " ('olist_order_items_dataset',),\n",
              " ('olist_products_dataset',),\n",
              " ('olist_sellers_dataset',),\n",
              " ('olist_geolocation_dataset',),\n",
              " ('product_category_name_translation',)]"
            ]
          },
          "metadata": {},
          "execution_count": 98
        }
      ],
      "source": [
        "#GETTING TO KNOW THE DATABASE\n",
        "\n",
        "query = \"\"\"\n",
        "SELECT\n",
        "    name\n",
        "FROM\n",
        "    sqlite_master\n",
        "WHERE type='table'\n",
        "\"\"\"\n",
        "tables_info = load_data(query)\n",
        "tables_info"
      ]
    },
    {
      "cell_type": "code",
      "execution_count": null,
      "metadata": {
        "id": "rsB8YssGfmTr",
        "colab": {
          "base_uri": "https://localhost:8080/"
        },
        "outputId": "73abd9a4-379f-40b1-e389-1ffcb84d52e0"
      },
      "outputs": [
        {
          "output_type": "stream",
          "name": "stdout",
          "text": [
            "<class 'pandas.core.frame.DataFrame'>\n",
            "RangeIndex: 99441 entries, 0 to 99440\n",
            "Data columns (total 9 columns):\n",
            " #   Column                         Non-Null Count  Dtype \n",
            "---  ------                         --------------  ----- \n",
            " 0   index                          99441 non-null  int64 \n",
            " 1   order_id                       99441 non-null  object\n",
            " 2   customer_id                    99441 non-null  object\n",
            " 3   order_status                   99441 non-null  object\n",
            " 4   order_purchase_timestamp       99441 non-null  object\n",
            " 5   order_approved_at              99281 non-null  object\n",
            " 6   order_delivered_carrier_date   97658 non-null  object\n",
            " 7   order_delivered_customer_date  96476 non-null  object\n",
            " 8   order_estimated_delivery_date  99441 non-null  object\n",
            "dtypes: int64(1), object(8)\n",
            "memory usage: 6.8+ MB\n"
          ]
        }
      ],
      "source": [
        "#GETTING TO KNOW EACH TABLE INFORMATION\n",
        "query = \"\"\"\n",
        "SELECT\n",
        "    *\n",
        "FROM\n",
        "    olist_order_dataset\n",
        "\"\"\"\n",
        "df_order = create_df(query)\n",
        "\n",
        "\n",
        "df_order.info()\n",
        "\n",
        "#columns needed: order_id, customer_id, order_status\n",
        "#table shortname: o"
      ]
    },
    {
      "cell_type": "code",
      "execution_count": null,
      "metadata": {
        "id": "YHT7WZaWp96x"
      },
      "outputs": [],
      "source": [
        "query = \"\"\"\n",
        "SELECT\n",
        "    *\n",
        "FROM\n",
        "    olist_order_items_dataset\n",
        "\"\"\"\n",
        "df_order_item = create_df(query)\n",
        "\n",
        "# df_order_item.info()\n",
        "\n",
        "#columns needed: order_id, product_id, price\n",
        "#table shortname: oi"
      ]
    },
    {
      "cell_type": "code",
      "execution_count": null,
      "metadata": {
        "id": "voHo-txYrROZ"
      },
      "outputs": [],
      "source": [
        "query = \"\"\"\n",
        "SELECT\n",
        "    *\n",
        "FROM\n",
        "    olist_products_dataset\n",
        "\"\"\"\n",
        "df_products = create_df(query)\n",
        "\n",
        "# df_products.info()\n",
        "\n",
        "#columns needed: product_id, product_category_name\n",
        "#table shortname: p"
      ]
    },
    {
      "cell_type": "code",
      "source": [
        "query = \"\"\"\n",
        "SELECT\n",
        "    *\n",
        "FROM\n",
        "    'product_category_name_translation'\n",
        "\"\"\"\n",
        "df_products_trans = create_df(query)\n",
        "\n",
        "# df_products_trans.info()\n",
        "\n",
        "#columns needed: product_id, product_category_name\n",
        "#table shortname: t\n"
      ],
      "metadata": {
        "id": "aDBYqkjNa9f1"
      },
      "execution_count": null,
      "outputs": []
    },
    {
      "cell_type": "code",
      "execution_count": null,
      "metadata": {
        "id": "uWcfZgFjrsI_"
      },
      "outputs": [],
      "source": [
        "query = \"\"\"\n",
        "SELECT\n",
        "    *\n",
        "FROM\n",
        "    olist_order_reviews_dataset\n",
        "\"\"\"\n",
        "df_reviews = create_df(query)\n",
        "\n",
        "# df_reviews.info()\n",
        "\n",
        "#columns needed: order_id, review_score\n",
        "#table shortname: r"
      ]
    },
    {
      "cell_type": "code",
      "execution_count": null,
      "metadata": {
        "id": "NWX5cTeQr4q1"
      },
      "outputs": [],
      "source": [
        "query = \"\"\"\n",
        "SELECT\n",
        "    *\n",
        "FROM\n",
        "    olist_order_customer_dataset\n",
        "\"\"\"\n",
        "df_customer = create_df(query)\n",
        "\n",
        "# df_customer.info()\n",
        "\n",
        "#columns needed: cutomer_id, customer_city, customer_state\n",
        "#table shortname: c"
      ]
    },
    {
      "cell_type": "code",
      "execution_count": null,
      "metadata": {
        "id": "e84d6Wqc7W2_"
      },
      "outputs": [],
      "source": [
        "query = \"\"\"\n",
        "SELECT\n",
        "    *\n",
        "FROM\n",
        "    olist_order_payments_dataset\n",
        "\"\"\"\n",
        "df_payments = create_df(query)\n",
        "\n",
        "# df_payments.info()\n",
        "\n",
        "#coplumns needed: order_id, payment_type, payment_value\n",
        "#table shorname: op"
      ]
    },
    {
      "cell_type": "markdown",
      "source": [
        "TAHAP 4: MEMBUAT DATAFRAME BARU, GABUNGAN DARI BERBAGAI TABEL"
      ],
      "metadata": {
        "id": "9L_oxZEaoxM7"
      }
    },
    {
      "cell_type": "code",
      "source": [
        "#CREATING NEW TABLE CONSISTING NEEDED VARIABLE\n",
        "\n",
        "query = \"\"\"\n",
        "WITH orders_with_city AS(\n",
        "  SELECT\n",
        "     order_id,\n",
        "     oi.customer_id,\n",
        "     customer_city,\n",
        "     customer_state\n",
        "   FROM\n",
        "     olist_order_dataset oi\n",
        "   LEFT JOIN\n",
        "     olist_order_customer_dataset c ON oi.customer_id = c.customer_id\n",
        ")\n",
        "\n",
        "SELECT\n",
        "    oi.order_id,\n",
        "    oi.product_id,\n",
        "    t.product_category_name_english AS product_cat,\n",
        "    oi.price,\n",
        "    oi.order_item_id,\n",
        "    op.payment_type,\n",
        "    op.payment_value,\n",
        "    o.order_status,\n",
        "    oc.customer_city,\n",
        "    oc.customer_state,\n",
        "    r.review_score\n",
        "FROM\n",
        "    olist_order_items_dataset oi\n",
        "LEFT JOIN\n",
        "    olist_products_dataset p ON oi.product_id = p.product_id\n",
        "LEFT JOIN\n",
        "    product_category_name_translation t ON p.product_category_name = t.product_category_name\n",
        "LEFT JOIN\n",
        "    olist_order_dataset o ON oi.order_id = o.order_id\n",
        "LEFT JOIN\n",
        "    olist_order_reviews_dataset r ON oi.order_id = r.order_id\n",
        "LEFT JOIN\n",
        "    olist_order_payments_dataset op ON oi.order_id = op.order_id\n",
        "LEFT JOIN\n",
        "    orders_with_city oc ON oc.order_id = oi.order_id\n",
        "\"\"\"\n",
        "\n",
        "df = create_df(query)\n",
        "# df.info()\n",
        "df\n",
        "# df[df[\"product_cat\"] == \"fixed_telephony\"].head(15)"
      ],
      "metadata": {
        "id": "gO08EMvFaARR",
        "colab": {
          "base_uri": "https://localhost:8080/",
          "height": 505
        },
        "outputId": "3bcf3dbe-aee3-4ef3-c0ff-cc712abbc4d9"
      },
      "execution_count": null,
      "outputs": [
        {
          "output_type": "execute_result",
          "data": {
            "text/plain": [
              "                                order_id                        product_id  \\\n",
              "0       00010242fe8c5a6d1ba2dd792cb16214  4244733e06e7ecb4970a6e2683c13e61   \n",
              "1       00018f77f2f0320c557190d7a144bdd3  e5f2d52b802189ee658865ca93d83a8f   \n",
              "2       000229ec398224ef6ca0657da4fc703e  c777355d18b72b67abbeef9df44fd0fd   \n",
              "3       00024acbcdf0a6daa1e931b038114c75  7634da152a4610f1595efa32f14722fc   \n",
              "4       00042b26cf59d7ce69dfabb4e55b4fd9  ac6c3623068f30de03045865e4e10089   \n",
              "...                                  ...                               ...   \n",
              "118305  fffc94f6ce00a00581880bf54a75a037  4aa6014eceb682077f9dc4bffebc05b0   \n",
              "118306  fffcd46ef2263f404302a634eb57f7eb  32e07fd915822b0765e448c4dd74c828   \n",
              "118307  fffce4705a9662cd70adb13d4a31832d  72a30483855e2eafc67aee5dc2560482   \n",
              "118308  fffe18544ffabc95dfada21779c9644f  9c422a519119dcad7575db5af1ba540e   \n",
              "118309  fffe41c64501cc87c801fd61db3f6244  350688d9dc1e75ff97be326363655e01   \n",
              "\n",
              "                  product_cat   price  order_item_id payment_type  \\\n",
              "0                  cool_stuff   58.90              1  credit_card   \n",
              "1                    pet_shop  239.90              1  credit_card   \n",
              "2             furniture_decor  199.00              1  credit_card   \n",
              "3                   perfumery   12.99              1  credit_card   \n",
              "4                garden_tools  199.90              1  credit_card   \n",
              "...                       ...     ...            ...          ...   \n",
              "118305             housewares  299.99              1       boleto   \n",
              "118306  computers_accessories  350.00              1       boleto   \n",
              "118307         sports_leisure   99.90              1  credit_card   \n",
              "118308  computers_accessories   55.99              1  credit_card   \n",
              "118309         bed_bath_table   43.00              1  credit_card   \n",
              "\n",
              "        payment_value order_status          customer_city customer_state  \\\n",
              "0               72.19    delivered  campos dos goytacazes             RJ   \n",
              "1              259.83    delivered        santa fe do sul             SP   \n",
              "2              216.87    delivered          para de minas             MG   \n",
              "3               25.78    delivered                atibaia             SP   \n",
              "4              218.04    delivered        varzea paulista             SP   \n",
              "...               ...          ...                    ...            ...   \n",
              "118305         343.40    delivered               sao luis             MA   \n",
              "118306         386.53    delivered               curitiba             PR   \n",
              "118307         116.85    delivered              sao paulo             SP   \n",
              "118308          64.71    delivered                vinhedo             SP   \n",
              "118309          55.79    delivered               botucatu             SP   \n",
              "\n",
              "        review_score  \n",
              "0                5.0  \n",
              "1                4.0  \n",
              "2                5.0  \n",
              "3                4.0  \n",
              "4                5.0  \n",
              "...              ...  \n",
              "118305           5.0  \n",
              "118306           5.0  \n",
              "118307           5.0  \n",
              "118308           5.0  \n",
              "118309           5.0  \n",
              "\n",
              "[118310 rows x 11 columns]"
            ],
            "text/html": [
              "\n",
              "\n",
              "  <div id=\"df-c9ea2f08-9f3c-4469-a26b-5a1a1ce88557\">\n",
              "    <div class=\"colab-df-container\">\n",
              "      <div>\n",
              "<style scoped>\n",
              "    .dataframe tbody tr th:only-of-type {\n",
              "        vertical-align: middle;\n",
              "    }\n",
              "\n",
              "    .dataframe tbody tr th {\n",
              "        vertical-align: top;\n",
              "    }\n",
              "\n",
              "    .dataframe thead th {\n",
              "        text-align: right;\n",
              "    }\n",
              "</style>\n",
              "<table border=\"1\" class=\"dataframe\">\n",
              "  <thead>\n",
              "    <tr style=\"text-align: right;\">\n",
              "      <th></th>\n",
              "      <th>order_id</th>\n",
              "      <th>product_id</th>\n",
              "      <th>product_cat</th>\n",
              "      <th>price</th>\n",
              "      <th>order_item_id</th>\n",
              "      <th>payment_type</th>\n",
              "      <th>payment_value</th>\n",
              "      <th>order_status</th>\n",
              "      <th>customer_city</th>\n",
              "      <th>customer_state</th>\n",
              "      <th>review_score</th>\n",
              "    </tr>\n",
              "  </thead>\n",
              "  <tbody>\n",
              "    <tr>\n",
              "      <th>0</th>\n",
              "      <td>00010242fe8c5a6d1ba2dd792cb16214</td>\n",
              "      <td>4244733e06e7ecb4970a6e2683c13e61</td>\n",
              "      <td>cool_stuff</td>\n",
              "      <td>58.90</td>\n",
              "      <td>1</td>\n",
              "      <td>credit_card</td>\n",
              "      <td>72.19</td>\n",
              "      <td>delivered</td>\n",
              "      <td>campos dos goytacazes</td>\n",
              "      <td>RJ</td>\n",
              "      <td>5.0</td>\n",
              "    </tr>\n",
              "    <tr>\n",
              "      <th>1</th>\n",
              "      <td>00018f77f2f0320c557190d7a144bdd3</td>\n",
              "      <td>e5f2d52b802189ee658865ca93d83a8f</td>\n",
              "      <td>pet_shop</td>\n",
              "      <td>239.90</td>\n",
              "      <td>1</td>\n",
              "      <td>credit_card</td>\n",
              "      <td>259.83</td>\n",
              "      <td>delivered</td>\n",
              "      <td>santa fe do sul</td>\n",
              "      <td>SP</td>\n",
              "      <td>4.0</td>\n",
              "    </tr>\n",
              "    <tr>\n",
              "      <th>2</th>\n",
              "      <td>000229ec398224ef6ca0657da4fc703e</td>\n",
              "      <td>c777355d18b72b67abbeef9df44fd0fd</td>\n",
              "      <td>furniture_decor</td>\n",
              "      <td>199.00</td>\n",
              "      <td>1</td>\n",
              "      <td>credit_card</td>\n",
              "      <td>216.87</td>\n",
              "      <td>delivered</td>\n",
              "      <td>para de minas</td>\n",
              "      <td>MG</td>\n",
              "      <td>5.0</td>\n",
              "    </tr>\n",
              "    <tr>\n",
              "      <th>3</th>\n",
              "      <td>00024acbcdf0a6daa1e931b038114c75</td>\n",
              "      <td>7634da152a4610f1595efa32f14722fc</td>\n",
              "      <td>perfumery</td>\n",
              "      <td>12.99</td>\n",
              "      <td>1</td>\n",
              "      <td>credit_card</td>\n",
              "      <td>25.78</td>\n",
              "      <td>delivered</td>\n",
              "      <td>atibaia</td>\n",
              "      <td>SP</td>\n",
              "      <td>4.0</td>\n",
              "    </tr>\n",
              "    <tr>\n",
              "      <th>4</th>\n",
              "      <td>00042b26cf59d7ce69dfabb4e55b4fd9</td>\n",
              "      <td>ac6c3623068f30de03045865e4e10089</td>\n",
              "      <td>garden_tools</td>\n",
              "      <td>199.90</td>\n",
              "      <td>1</td>\n",
              "      <td>credit_card</td>\n",
              "      <td>218.04</td>\n",
              "      <td>delivered</td>\n",
              "      <td>varzea paulista</td>\n",
              "      <td>SP</td>\n",
              "      <td>5.0</td>\n",
              "    </tr>\n",
              "    <tr>\n",
              "      <th>...</th>\n",
              "      <td>...</td>\n",
              "      <td>...</td>\n",
              "      <td>...</td>\n",
              "      <td>...</td>\n",
              "      <td>...</td>\n",
              "      <td>...</td>\n",
              "      <td>...</td>\n",
              "      <td>...</td>\n",
              "      <td>...</td>\n",
              "      <td>...</td>\n",
              "      <td>...</td>\n",
              "    </tr>\n",
              "    <tr>\n",
              "      <th>118305</th>\n",
              "      <td>fffc94f6ce00a00581880bf54a75a037</td>\n",
              "      <td>4aa6014eceb682077f9dc4bffebc05b0</td>\n",
              "      <td>housewares</td>\n",
              "      <td>299.99</td>\n",
              "      <td>1</td>\n",
              "      <td>boleto</td>\n",
              "      <td>343.40</td>\n",
              "      <td>delivered</td>\n",
              "      <td>sao luis</td>\n",
              "      <td>MA</td>\n",
              "      <td>5.0</td>\n",
              "    </tr>\n",
              "    <tr>\n",
              "      <th>118306</th>\n",
              "      <td>fffcd46ef2263f404302a634eb57f7eb</td>\n",
              "      <td>32e07fd915822b0765e448c4dd74c828</td>\n",
              "      <td>computers_accessories</td>\n",
              "      <td>350.00</td>\n",
              "      <td>1</td>\n",
              "      <td>boleto</td>\n",
              "      <td>386.53</td>\n",
              "      <td>delivered</td>\n",
              "      <td>curitiba</td>\n",
              "      <td>PR</td>\n",
              "      <td>5.0</td>\n",
              "    </tr>\n",
              "    <tr>\n",
              "      <th>118307</th>\n",
              "      <td>fffce4705a9662cd70adb13d4a31832d</td>\n",
              "      <td>72a30483855e2eafc67aee5dc2560482</td>\n",
              "      <td>sports_leisure</td>\n",
              "      <td>99.90</td>\n",
              "      <td>1</td>\n",
              "      <td>credit_card</td>\n",
              "      <td>116.85</td>\n",
              "      <td>delivered</td>\n",
              "      <td>sao paulo</td>\n",
              "      <td>SP</td>\n",
              "      <td>5.0</td>\n",
              "    </tr>\n",
              "    <tr>\n",
              "      <th>118308</th>\n",
              "      <td>fffe18544ffabc95dfada21779c9644f</td>\n",
              "      <td>9c422a519119dcad7575db5af1ba540e</td>\n",
              "      <td>computers_accessories</td>\n",
              "      <td>55.99</td>\n",
              "      <td>1</td>\n",
              "      <td>credit_card</td>\n",
              "      <td>64.71</td>\n",
              "      <td>delivered</td>\n",
              "      <td>vinhedo</td>\n",
              "      <td>SP</td>\n",
              "      <td>5.0</td>\n",
              "    </tr>\n",
              "    <tr>\n",
              "      <th>118309</th>\n",
              "      <td>fffe41c64501cc87c801fd61db3f6244</td>\n",
              "      <td>350688d9dc1e75ff97be326363655e01</td>\n",
              "      <td>bed_bath_table</td>\n",
              "      <td>43.00</td>\n",
              "      <td>1</td>\n",
              "      <td>credit_card</td>\n",
              "      <td>55.79</td>\n",
              "      <td>delivered</td>\n",
              "      <td>botucatu</td>\n",
              "      <td>SP</td>\n",
              "      <td>5.0</td>\n",
              "    </tr>\n",
              "  </tbody>\n",
              "</table>\n",
              "<p>118310 rows × 11 columns</p>\n",
              "</div>\n",
              "      <button class=\"colab-df-convert\" onclick=\"convertToInteractive('df-c9ea2f08-9f3c-4469-a26b-5a1a1ce88557')\"\n",
              "              title=\"Convert this dataframe to an interactive table.\"\n",
              "              style=\"display:none;\">\n",
              "\n",
              "  <svg xmlns=\"http://www.w3.org/2000/svg\" height=\"24px\"viewBox=\"0 0 24 24\"\n",
              "       width=\"24px\">\n",
              "    <path d=\"M0 0h24v24H0V0z\" fill=\"none\"/>\n",
              "    <path d=\"M18.56 5.44l.94 2.06.94-2.06 2.06-.94-2.06-.94-.94-2.06-.94 2.06-2.06.94zm-11 1L8.5 8.5l.94-2.06 2.06-.94-2.06-.94L8.5 2.5l-.94 2.06-2.06.94zm10 10l.94 2.06.94-2.06 2.06-.94-2.06-.94-.94-2.06-.94 2.06-2.06.94z\"/><path d=\"M17.41 7.96l-1.37-1.37c-.4-.4-.92-.59-1.43-.59-.52 0-1.04.2-1.43.59L10.3 9.45l-7.72 7.72c-.78.78-.78 2.05 0 2.83L4 21.41c.39.39.9.59 1.41.59.51 0 1.02-.2 1.41-.59l7.78-7.78 2.81-2.81c.8-.78.8-2.07 0-2.86zM5.41 20L4 18.59l7.72-7.72 1.47 1.35L5.41 20z\"/>\n",
              "  </svg>\n",
              "      </button>\n",
              "\n",
              "\n",
              "\n",
              "    <div id=\"df-d5106908-a9d4-4dd5-940b-cf11e9021e06\">\n",
              "      <button class=\"colab-df-quickchart\" onclick=\"quickchart('df-d5106908-a9d4-4dd5-940b-cf11e9021e06')\"\n",
              "              title=\"Suggest charts.\"\n",
              "              style=\"display:none;\">\n",
              "\n",
              "<svg xmlns=\"http://www.w3.org/2000/svg\" height=\"24px\"viewBox=\"0 0 24 24\"\n",
              "     width=\"24px\">\n",
              "    <g>\n",
              "        <path d=\"M19 3H5c-1.1 0-2 .9-2 2v14c0 1.1.9 2 2 2h14c1.1 0 2-.9 2-2V5c0-1.1-.9-2-2-2zM9 17H7v-7h2v7zm4 0h-2V7h2v10zm4 0h-2v-4h2v4z\"/>\n",
              "    </g>\n",
              "</svg>\n",
              "      </button>\n",
              "    </div>\n",
              "\n",
              "<style>\n",
              "  .colab-df-quickchart {\n",
              "    background-color: #E8F0FE;\n",
              "    border: none;\n",
              "    border-radius: 50%;\n",
              "    cursor: pointer;\n",
              "    display: none;\n",
              "    fill: #1967D2;\n",
              "    height: 32px;\n",
              "    padding: 0 0 0 0;\n",
              "    width: 32px;\n",
              "  }\n",
              "\n",
              "  .colab-df-quickchart:hover {\n",
              "    background-color: #E2EBFA;\n",
              "    box-shadow: 0px 1px 2px rgba(60, 64, 67, 0.3), 0px 1px 3px 1px rgba(60, 64, 67, 0.15);\n",
              "    fill: #174EA6;\n",
              "  }\n",
              "\n",
              "  [theme=dark] .colab-df-quickchart {\n",
              "    background-color: #3B4455;\n",
              "    fill: #D2E3FC;\n",
              "  }\n",
              "\n",
              "  [theme=dark] .colab-df-quickchart:hover {\n",
              "    background-color: #434B5C;\n",
              "    box-shadow: 0px 1px 3px 1px rgba(0, 0, 0, 0.15);\n",
              "    filter: drop-shadow(0px 1px 2px rgba(0, 0, 0, 0.3));\n",
              "    fill: #FFFFFF;\n",
              "  }\n",
              "</style>\n",
              "\n",
              "    <script>\n",
              "      async function quickchart(key) {\n",
              "        const containerElement = document.querySelector('#' + key);\n",
              "        const charts = await google.colab.kernel.invokeFunction(\n",
              "            'suggestCharts', [key], {});\n",
              "      }\n",
              "    </script>\n",
              "\n",
              "      <script>\n",
              "\n",
              "function displayQuickchartButton(domScope) {\n",
              "  let quickchartButtonEl =\n",
              "    domScope.querySelector('#df-d5106908-a9d4-4dd5-940b-cf11e9021e06 button.colab-df-quickchart');\n",
              "  quickchartButtonEl.style.display =\n",
              "    google.colab.kernel.accessAllowed ? 'block' : 'none';\n",
              "}\n",
              "\n",
              "        displayQuickchartButton(document);\n",
              "      </script>\n",
              "      <style>\n",
              "    .colab-df-container {\n",
              "      display:flex;\n",
              "      flex-wrap:wrap;\n",
              "      gap: 12px;\n",
              "    }\n",
              "\n",
              "    .colab-df-convert {\n",
              "      background-color: #E8F0FE;\n",
              "      border: none;\n",
              "      border-radius: 50%;\n",
              "      cursor: pointer;\n",
              "      display: none;\n",
              "      fill: #1967D2;\n",
              "      height: 32px;\n",
              "      padding: 0 0 0 0;\n",
              "      width: 32px;\n",
              "    }\n",
              "\n",
              "    .colab-df-convert:hover {\n",
              "      background-color: #E2EBFA;\n",
              "      box-shadow: 0px 1px 2px rgba(60, 64, 67, 0.3), 0px 1px 3px 1px rgba(60, 64, 67, 0.15);\n",
              "      fill: #174EA6;\n",
              "    }\n",
              "\n",
              "    [theme=dark] .colab-df-convert {\n",
              "      background-color: #3B4455;\n",
              "      fill: #D2E3FC;\n",
              "    }\n",
              "\n",
              "    [theme=dark] .colab-df-convert:hover {\n",
              "      background-color: #434B5C;\n",
              "      box-shadow: 0px 1px 3px 1px rgba(0, 0, 0, 0.15);\n",
              "      filter: drop-shadow(0px 1px 2px rgba(0, 0, 0, 0.3));\n",
              "      fill: #FFFFFF;\n",
              "    }\n",
              "  </style>\n",
              "\n",
              "      <script>\n",
              "        const buttonEl =\n",
              "          document.querySelector('#df-c9ea2f08-9f3c-4469-a26b-5a1a1ce88557 button.colab-df-convert');\n",
              "        buttonEl.style.display =\n",
              "          google.colab.kernel.accessAllowed ? 'block' : 'none';\n",
              "\n",
              "        async function convertToInteractive(key) {\n",
              "          const element = document.querySelector('#df-c9ea2f08-9f3c-4469-a26b-5a1a1ce88557');\n",
              "          const dataTable =\n",
              "            await google.colab.kernel.invokeFunction('convertToInteractive',\n",
              "                                                     [key], {});\n",
              "          if (!dataTable) return;\n",
              "\n",
              "          const docLinkHtml = 'Like what you see? Visit the ' +\n",
              "            '<a target=\"_blank\" href=https://colab.research.google.com/notebooks/data_table.ipynb>data table notebook</a>'\n",
              "            + ' to learn more about interactive tables.';\n",
              "          element.innerHTML = '';\n",
              "          dataTable['output_type'] = 'display_data';\n",
              "          await google.colab.output.renderOutput(dataTable, element);\n",
              "          const docLink = document.createElement('div');\n",
              "          docLink.innerHTML = docLinkHtml;\n",
              "          element.appendChild(docLink);\n",
              "        }\n",
              "      </script>\n",
              "    </div>\n",
              "  </div>\n"
            ]
          },
          "metadata": {},
          "execution_count": 103
        }
      ]
    },
    {
      "cell_type": "markdown",
      "source": [
        "TAHAP 5: DATA CLEANSING"
      ],
      "metadata": {
        "id": "lAq5XP8qpGvG"
      }
    },
    {
      "cell_type": "code",
      "execution_count": null,
      "metadata": {
        "id": "sqLfbuXUMH8B"
      },
      "outputs": [],
      "source": [
        "#dataframe preview\n",
        "\n",
        "df_desc = []\n",
        "\n",
        "for col in df.columns:\n",
        "    df_desc.append([\n",
        "        col,\n",
        "        df[col].dtypes,\n",
        "        df[col].isnull().sum(),\n",
        "        round((((df[col].isnull().sum()) / (len(df))) * 100),3),\n",
        "        df[col].nunique(),\n",
        "        df[col].drop_duplicates().sample(3).values\n",
        "    ])\n",
        "\n",
        "df_preview = pd.DataFrame(df_desc, columns = ['Data Features', 'Data Type', 'Null', 'Null (%)', 'Unique', 'Unique Sample'])\n",
        "# df_preview\n"
      ]
    },
    {
      "cell_type": "code",
      "source": [
        "#Removing Null Values\n",
        "#Rows containing null values from columns: product_cat, payment_type, payment value, and review score will be deleted\n",
        "\n",
        "df.dropna(inplace=True)\n",
        "\n",
        "# df.info()"
      ],
      "metadata": {
        "id": "CKp18-OK5YJ3"
      },
      "execution_count": null,
      "outputs": []
    },
    {
      "cell_type": "code",
      "execution_count": null,
      "metadata": {
        "id": "NKdfNThWS6se"
      },
      "outputs": [],
      "source": [
        "#Checking for duplicates\n",
        "\n",
        "df_duplicates = df.duplicated().sum()\n",
        "\n",
        "df_duplicates\n",
        "\n",
        "df.drop_duplicates(inplace=True)\n",
        "\n",
        "# df.info()"
      ]
    },
    {
      "cell_type": "code",
      "source": [
        "#Checking for outlier\n",
        "\n",
        "#Checking statistic descriptive for 'Price' column\n",
        "df['price'].describe()"
      ],
      "metadata": {
        "colab": {
          "base_uri": "https://localhost:8080/"
        },
        "id": "kfr42B8p6rsg",
        "outputId": "eb4b439d-7e26-4cc9-ac8b-d19954eb9e53"
      },
      "execution_count": null,
      "outputs": [
        {
          "output_type": "execute_result",
          "data": {
            "text/plain": [
              "count    114541.000000\n",
              "mean        120.700627\n",
              "std         182.828187\n",
              "min           0.850000\n",
              "25%          39.900000\n",
              "50%          74.900000\n",
              "75%         134.900000\n",
              "max        6735.000000\n",
              "Name: price, dtype: float64"
            ]
          },
          "metadata": {},
          "execution_count": 29
        }
      ]
    },
    {
      "cell_type": "code",
      "source": [
        "#Creating Boxplot to detect outlier for Price column\n",
        "sns.boxplot(data = df, x =\"price\")"
      ],
      "metadata": {
        "colab": {
          "base_uri": "https://localhost:8080/",
          "height": 466
        },
        "id": "7JTLhaptz6wy",
        "outputId": "e304c4eb-f2de-4397-9db3-7d4282506c85"
      },
      "execution_count": null,
      "outputs": [
        {
          "output_type": "execute_result",
          "data": {
            "text/plain": [
              "<Axes: xlabel='price'>"
            ]
          },
          "metadata": {},
          "execution_count": 30
        },
        {
          "output_type": "display_data",
          "data": {
            "text/plain": [
              "<Figure size 640x480 with 1 Axes>"
            ],
            "image/png": "[encoded data removed]"
          },
          "metadata": {}
        }
      ]
    },
    {
      "cell_type": "code",
      "source": [
        "#Defining a function to removing outliers\n",
        "\n",
        "def removing_outliers (df, column):\n",
        "  df_filtered = df.copy()\n",
        "\n",
        "  upper_quant = df[column].quantile(0.95)\n",
        "  lower_quant = df[column].quantile(0.05)\n",
        "\n",
        "  df_filtered = df[(df[column]< upper_quant) & (df[column]>lower_quant)]\n",
        "\n",
        "  return df_filtered\n"
      ],
      "metadata": {
        "id": "lHGREpCtf268"
      },
      "execution_count": null,
      "outputs": []
    },
    {
      "cell_type": "code",
      "source": [
        "#Generating new dataframe based on filtered 'price' column\n",
        "\n",
        "df_cleaned = removing_outliers(df, \"price\")\n",
        "\n",
        "df_cleaned.info()"
      ],
      "metadata": {
        "colab": {
          "base_uri": "https://localhost:8080/"
        },
        "id": "KsXCce09youv",
        "outputId": "f2b9cc2e-375e-4611-a623-94050e8c5c98"
      },
      "execution_count": null,
      "outputs": [
        {
          "output_type": "stream",
          "name": "stdout",
          "text": [
            "<class 'pandas.core.frame.DataFrame'>\n",
            "Int64Index: 102958 entries, 0 to 118309\n",
            "Data columns (total 11 columns):\n",
            " #   Column          Non-Null Count   Dtype  \n",
            "---  ------          --------------   -----  \n",
            " 0   order_id        102958 non-null  object \n",
            " 1   product_id      102958 non-null  object \n",
            " 2   product_cat     102958 non-null  object \n",
            " 3   price           102958 non-null  float64\n",
            " 4   order_item_id   102958 non-null  int64  \n",
            " 5   payment_type    102958 non-null  object \n",
            " 6   payment_value   102958 non-null  float64\n",
            " 7   order_status    102958 non-null  object \n",
            " 8   customer_city   102958 non-null  object \n",
            " 9   customer_state  102958 non-null  object \n",
            " 10  review_score    102958 non-null  float64\n",
            "dtypes: float64(3), int64(1), object(7)\n",
            "memory usage: 9.4+ MB\n"
          ]
        }
      ]
    },
    {
      "cell_type": "code",
      "source": [
        "#Checking trough new boxplot\n",
        "\n",
        "sns.boxplot(data = df_cleaned, x=\"price\")"
      ],
      "metadata": {
        "colab": {
          "base_uri": "https://localhost:8080/",
          "height": 466
        },
        "id": "DRl2sPrJgXse",
        "outputId": "59112c7c-77e5-4bd7-ccc3-85849ac3751c"
      },
      "execution_count": null,
      "outputs": [
        {
          "output_type": "execute_result",
          "data": {
            "text/plain": [
              "<Axes: xlabel='price'>"
            ]
          },
          "metadata": {},
          "execution_count": 33
        },
        {
          "output_type": "display_data",
          "data": {
            "text/plain": [
              "<Figure size 640x480 with 1 Axes>"
            ],
            "image/png": "[encoded data removed]"
          },
          "metadata": {}
        }
      ]
    },
    {
      "cell_type": "markdown",
      "source": [
        "#Objectives 1: Looking for highest/lowest ordered product by category"
      ],
      "metadata": {
        "id": "jNtn0ZzTpaey"
      }
    },
    {
      "cell_type": "code",
      "source": [
        "# Define the product by grouping\n",
        "cat_product = df_cleaned.groupby('product_cat')['order_id'].count().sort_values(ascending=False)\n",
        "\n",
        "# cat_product = pd.DataFrame(cat_product)\n",
        "cat_product"
      ],
      "metadata": {
        "id": "cKuvE8E2jil_",
        "colab": {
          "base_uri": "https://localhost:8080/"
        },
        "outputId": "4ab64a2b-128e-4abf-a5d4-964fe167dbe9"
      },
      "execution_count": null,
      "outputs": [
        {
          "output_type": "execute_result",
          "data": {
            "text/plain": [
              "product_cat\n",
              "bed_bath_table               11268\n",
              "health_beauty                 8600\n",
              "sports_leisure                8256\n",
              "furniture_decor               8126\n",
              "computers_accessories         7550\n",
              "                             ...  \n",
              "la_cuisine                      14\n",
              "fashion_childrens_clothes        8\n",
              "home_comfort_2                   4\n",
              "security_and_services            2\n",
              "computers                        1\n",
              "Name: order_id, Length: 71, dtype: int64"
            ]
          },
          "metadata": {},
          "execution_count": 38
        }
      ]
    },
    {
      "cell_type": "code",
      "source": [
        "#Highest Ordered Product Category\n",
        "# Defining numbers for highest ordered product category\n",
        "highest_product_cat = cat_product.head(5).sort_values()\n",
        "\n",
        "# Defining the colour map for color of the bars\n",
        "cmap = plt.cm.get_cmap('OrRd')\n",
        "\n",
        "# Creating a gradiant colour based on numbers for highest ordered product category\n",
        "colors = np.linspace(0.4, 0.8, 5)\n",
        "\n",
        "# Creating the bar plot\n",
        "plt.figure(figsize=(12, 5)) #define the scale of the figure\n",
        "bars = plt.barh(highest_product_cat.index,\n",
        "                highest_product_cat.values,\n",
        "                color=cmap(colors)) #creating the bars by assigning the defined value\n",
        "\n",
        "# Annottating the value for each bar\n",
        "for i, v in zip(highest_product_cat.index, highest_product_cat.values):\n",
        "    plt.text(v, i, str(v), ha='left', va='center', fontsize=8)\n",
        "\n",
        "# Completing the figure labels\n",
        "plt.xlabel('Product Category')\n",
        "plt.ylabel('Order Value')\n",
        "plt.title(f'Highest 5 Ordered Products Category')\n",
        "plt.tight_layout()\n",
        "\n",
        "# Displaying the bar plot\n",
        "plt.show()"
      ],
      "metadata": {
        "colab": {
          "base_uri": "https://localhost:8080/",
          "height": 562
        },
        "id": "iigW38K4YClV",
        "outputId": "1d66cdee-591f-410f-8d38-ed986a89ad92"
      },
      "execution_count": null,
      "outputs": [
        {
          "output_type": "stream",
          "name": "stderr",
          "text": [
            "<ipython-input-40-7c48e60cae8b>:6: MatplotlibDeprecationWarning: The get_cmap function was deprecated in Matplotlib 3.7 and will be removed two minor releases later. Use ``matplotlib.colormaps[name]`` or ``matplotlib.colormaps.get_cmap(obj)`` instead.\n",
            "  cmap = plt.cm.get_cmap('OrRd')\n"
          ]
        },
        {
          "output_type": "display_data",
          "data": {
            "text/plain": [
              "<Figure size 1200x500 with 1 Axes>"
            ],
            "image/png": "[encoded data removed]"
          },
          "metadata": {}
        }
      ]
    },
    {
      "cell_type": "code",
      "source": [
        "#Objecives 1: Highest and Lowest Ordered Product Categories\n",
        "\n",
        "# Lowest Ordered Product Category\n",
        "# Defining numbers for highest ordered product category\n",
        "lowest_product_cat = cat_product.tail(5)\n",
        "\n",
        "\n",
        "# Creating the bar plot\n",
        "plt.figure(figsize=(7, 5)) #define the scale of the figure\n",
        "bars = plt.barh(lowest_product_cat.index,\n",
        "                lowest_product_cat.values,\n",
        "                color='Gray') #creating the bars by assigning the defined value\n",
        "bars[-1].set_color('r')\n",
        "\n",
        "# Annottating the value for each bar\n",
        "for i, v in zip(lowest_product_cat.index, lowest_product_cat.values):\n",
        "    plt.text(v, i, str(v), ha='left', va='center', fontsize=10)\n",
        "\n",
        "# Completing the figure labels\n",
        "plt.xlabel('Product Category')\n",
        "plt.ylabel('Order Value')\n",
        "plt.title(f'Lowest 5 Ordered Products Category')\n",
        "plt.tight_layout()\n",
        "\n",
        "# Displaying the bar plot\n",
        "plt.show()"
      ],
      "metadata": {
        "colab": {
          "base_uri": "https://localhost:8080/",
          "height": 507
        },
        "id": "dwNHAAwSi9hc",
        "outputId": "d07b631c-c27a-47b0-90e6-b1a08adf5399"
      },
      "execution_count": null,
      "outputs": [
        {
          "output_type": "display_data",
          "data": {
            "text/plain": [
              "<Figure size 700x500 with 1 Axes>"
            ],
            "image/png": "[encoded data removed]"
          },
          "metadata": {}
        }
      ]
    },
    {
      "cell_type": "code",
      "source": [],
      "metadata": {
        "id": "_alf5fdvcJ-G"
      },
      "execution_count": null,
      "outputs": []
    },
    {
      "cell_type": "code",
      "source": [],
      "metadata": {
        "id": "7CTGGKDBCmw3"
      },
      "execution_count": null,
      "outputs": []
    },
    {
      "cell_type": "markdown",
      "source": [
        "# **Objective 2: Highest and Lowest Revenue from Delivered Product**"
      ],
      "metadata": {
        "id": "T-POSJnzG3EE"
      }
    },
    {
      "cell_type": "code",
      "source": [
        "# Calling for the ordered product with \"delivered\" order status\n",
        "\n",
        "delivered_products = df_cleaned.loc[df_cleaned ['order_status'] == 'delivered']\n",
        "\n",
        "delivered_products"
      ],
      "metadata": {
        "id": "W7hrs9s6HvTP",
        "colab": {
          "base_uri": "https://localhost:8080/",
          "height": 505
        },
        "outputId": "323948a9-0ad2-427b-c765-2a1c46873ccf"
      },
      "execution_count": null,
      "outputs": [
        {
          "output_type": "execute_result",
          "data": {
            "text/plain": [
              "                                order_id                        product_id  \\\n",
              "0       00010242fe8c5a6d1ba2dd792cb16214  4244733e06e7ecb4970a6e2683c13e61   \n",
              "1       00018f77f2f0320c557190d7a144bdd3  e5f2d52b802189ee658865ca93d83a8f   \n",
              "2       000229ec398224ef6ca0657da4fc703e  c777355d18b72b67abbeef9df44fd0fd   \n",
              "4       00042b26cf59d7ce69dfabb4e55b4fd9  ac6c3623068f30de03045865e4e10089   \n",
              "5       00048cc3ae777c65dbb7d2a0634bc1ea  ef92defde845ab8450f9d70c526ef70f   \n",
              "...                                  ...                               ...   \n",
              "118304  fffbee3b5462987e66fb49b1c5411df2  6f0169f259bb0ff432bfff7d829b9946   \n",
              "118305  fffc94f6ce00a00581880bf54a75a037  4aa6014eceb682077f9dc4bffebc05b0   \n",
              "118307  fffce4705a9662cd70adb13d4a31832d  72a30483855e2eafc67aee5dc2560482   \n",
              "118308  fffe18544ffabc95dfada21779c9644f  9c422a519119dcad7575db5af1ba540e   \n",
              "118309  fffe41c64501cc87c801fd61db3f6244  350688d9dc1e75ff97be326363655e01   \n",
              "\n",
              "                  product_cat   price  order_item_id payment_type  \\\n",
              "0                  cool_stuff   58.90              1  credit_card   \n",
              "1                    pet_shop  239.90              1  credit_card   \n",
              "2             furniture_decor  199.00              1  credit_card   \n",
              "4                garden_tools  199.90              1  credit_card   \n",
              "5                  housewares   21.90              1       boleto   \n",
              "...                       ...     ...            ...          ...   \n",
              "118304      home_construction  119.85              1  credit_card   \n",
              "118305             housewares  299.99              1       boleto   \n",
              "118307         sports_leisure   99.90              1  credit_card   \n",
              "118308  computers_accessories   55.99              1  credit_card   \n",
              "118309         bed_bath_table   43.00              1  credit_card   \n",
              "\n",
              "        payment_value order_status          customer_city customer_state  \\\n",
              "0               72.19    delivered  campos dos goytacazes             RJ   \n",
              "1              259.83    delivered        santa fe do sul             SP   \n",
              "2              216.87    delivered          para de minas             MG   \n",
              "4              218.04    delivered        varzea paulista             SP   \n",
              "5               34.59    delivered                uberaba             MG   \n",
              "...               ...          ...                    ...            ...   \n",
              "118304         139.88    delivered          montes claros             MG   \n",
              "118305         343.40    delivered               sao luis             MA   \n",
              "118307         116.85    delivered              sao paulo             SP   \n",
              "118308          64.71    delivered                vinhedo             SP   \n",
              "118309          55.79    delivered               botucatu             SP   \n",
              "\n",
              "        review_score  \n",
              "0                5.0  \n",
              "1                4.0  \n",
              "2                5.0  \n",
              "4                5.0  \n",
              "5                4.0  \n",
              "...              ...  \n",
              "118304           5.0  \n",
              "118305           5.0  \n",
              "118307           5.0  \n",
              "118308           5.0  \n",
              "118309           5.0  \n",
              "\n",
              "[100961 rows x 11 columns]"
            ],
            "text/html": [
              "\n",
              "\n",
              "  <div id=\"df-5ac6cc4c-f82f-4308-bdc2-d159bbebf76a\">\n",
              "    <div class=\"colab-df-container\">\n",
              "      <div>\n",
              "<style scoped>\n",
              "    .dataframe tbody tr th:only-of-type {\n",
              "        vertical-align: middle;\n",
              "    }\n",
              "\n",
              "    .dataframe tbody tr th {\n",
              "        vertical-align: top;\n",
              "    }\n",
              "\n",
              "    .dataframe thead th {\n",
              "        text-align: right;\n",
              "    }\n",
              "</style>\n",
              "<table border=\"1\" class=\"dataframe\">\n",
              "  <thead>\n",
              "    <tr style=\"text-align: right;\">\n",
              "      <th></th>\n",
              "      <th>order_id</th>\n",
              "      <th>product_id</th>\n",
              "      <th>product_cat</th>\n",
              "      <th>price</th>\n",
              "      <th>order_item_id</th>\n",
              "      <th>payment_type</th>\n",
              "      <th>payment_value</th>\n",
              "      <th>order_status</th>\n",
              "      <th>customer_city</th>\n",
              "      <th>customer_state</th>\n",
              "      <th>review_score</th>\n",
              "    </tr>\n",
              "  </thead>\n",
              "  <tbody>\n",
              "    <tr>\n",
              "      <th>0</th>\n",
              "      <td>00010242fe8c5a6d1ba2dd792cb16214</td>\n",
              "      <td>4244733e06e7ecb4970a6e2683c13e61</td>\n",
              "      <td>cool_stuff</td>\n",
              "      <td>58.90</td>\n",
              "      <td>1</td>\n",
              "      <td>credit_card</td>\n",
              "      <td>72.19</td>\n",
              "      <td>delivered</td>\n",
              "      <td>campos dos goytacazes</td>\n",
              "      <td>RJ</td>\n",
              "      <td>5.0</td>\n",
              "    </tr>\n",
              "    <tr>\n",
              "      <th>1</th>\n",
              "      <td>00018f77f2f0320c557190d7a144bdd3</td>\n",
              "      <td>e5f2d52b802189ee658865ca93d83a8f</td>\n",
              "      <td>pet_shop</td>\n",
              "      <td>239.90</td>\n",
              "      <td>1</td>\n",
              "      <td>credit_card</td>\n",
              "      <td>259.83</td>\n",
              "      <td>delivered</td>\n",
              "      <td>santa fe do sul</td>\n",
              "      <td>SP</td>\n",
              "      <td>4.0</td>\n",
              "    </tr>\n",
              "    <tr>\n",
              "      <th>2</th>\n",
              "      <td>000229ec398224ef6ca0657da4fc703e</td>\n",
              "      <td>c777355d18b72b67abbeef9df44fd0fd</td>\n",
              "      <td>furniture_decor</td>\n",
              "      <td>199.00</td>\n",
              "      <td>1</td>\n",
              "      <td>credit_card</td>\n",
              "      <td>216.87</td>\n",
              "      <td>delivered</td>\n",
              "      <td>para de minas</td>\n",
              "      <td>MG</td>\n",
              "      <td>5.0</td>\n",
              "    </tr>\n",
              "    <tr>\n",
              "      <th>4</th>\n",
              "      <td>00042b26cf59d7ce69dfabb4e55b4fd9</td>\n",
              "      <td>ac6c3623068f30de03045865e4e10089</td>\n",
              "      <td>garden_tools</td>\n",
              "      <td>199.90</td>\n",
              "      <td>1</td>\n",
              "      <td>credit_card</td>\n",
              "      <td>218.04</td>\n",
              "      <td>delivered</td>\n",
              "      <td>varzea paulista</td>\n",
              "      <td>SP</td>\n",
              "      <td>5.0</td>\n",
              "    </tr>\n",
              "    <tr>\n",
              "      <th>5</th>\n",
              "      <td>00048cc3ae777c65dbb7d2a0634bc1ea</td>\n",
              "      <td>ef92defde845ab8450f9d70c526ef70f</td>\n",
              "      <td>housewares</td>\n",
              "      <td>21.90</td>\n",
              "      <td>1</td>\n",
              "      <td>boleto</td>\n",
              "      <td>34.59</td>\n",
              "      <td>delivered</td>\n",
              "      <td>uberaba</td>\n",
              "      <td>MG</td>\n",
              "      <td>4.0</td>\n",
              "    </tr>\n",
              "    <tr>\n",
              "      <th>...</th>\n",
              "      <td>...</td>\n",
              "      <td>...</td>\n",
              "      <td>...</td>\n",
              "      <td>...</td>\n",
              "      <td>...</td>\n",
              "      <td>...</td>\n",
              "      <td>...</td>\n",
              "      <td>...</td>\n",
              "      <td>...</td>\n",
              "      <td>...</td>\n",
              "      <td>...</td>\n",
              "    </tr>\n",
              "    <tr>\n",
              "      <th>118304</th>\n",
              "      <td>fffbee3b5462987e66fb49b1c5411df2</td>\n",
              "      <td>6f0169f259bb0ff432bfff7d829b9946</td>\n",
              "      <td>home_construction</td>\n",
              "      <td>119.85</td>\n",
              "      <td>1</td>\n",
              "      <td>credit_card</td>\n",
              "      <td>139.88</td>\n",
              "      <td>delivered</td>\n",
              "      <td>montes claros</td>\n",
              "      <td>MG</td>\n",
              "      <td>5.0</td>\n",
              "    </tr>\n",
              "    <tr>\n",
              "      <th>118305</th>\n",
              "      <td>fffc94f6ce00a00581880bf54a75a037</td>\n",
              "      <td>4aa6014eceb682077f9dc4bffebc05b0</td>\n",
              "      <td>housewares</td>\n",
              "      <td>299.99</td>\n",
              "      <td>1</td>\n",
              "      <td>boleto</td>\n",
              "      <td>343.40</td>\n",
              "      <td>delivered</td>\n",
              "      <td>sao luis</td>\n",
              "      <td>MA</td>\n",
              "      <td>5.0</td>\n",
              "    </tr>\n",
              "    <tr>\n",
              "      <th>118307</th>\n",
              "      <td>fffce4705a9662cd70adb13d4a31832d</td>\n",
              "      <td>72a30483855e2eafc67aee5dc2560482</td>\n",
              "      <td>sports_leisure</td>\n",
              "      <td>99.90</td>\n",
              "      <td>1</td>\n",
              "      <td>credit_card</td>\n",
              "      <td>116.85</td>\n",
              "      <td>delivered</td>\n",
              "      <td>sao paulo</td>\n",
              "      <td>SP</td>\n",
              "      <td>5.0</td>\n",
              "    </tr>\n",
              "    <tr>\n",
              "      <th>118308</th>\n",
              "      <td>fffe18544ffabc95dfada21779c9644f</td>\n",
              "      <td>9c422a519119dcad7575db5af1ba540e</td>\n",
              "      <td>computers_accessories</td>\n",
              "      <td>55.99</td>\n",
              "      <td>1</td>\n",
              "      <td>credit_card</td>\n",
              "      <td>64.71</td>\n",
              "      <td>delivered</td>\n",
              "      <td>vinhedo</td>\n",
              "      <td>SP</td>\n",
              "      <td>5.0</td>\n",
              "    </tr>\n",
              "    <tr>\n",
              "      <th>118309</th>\n",
              "      <td>fffe41c64501cc87c801fd61db3f6244</td>\n",
              "      <td>350688d9dc1e75ff97be326363655e01</td>\n",
              "      <td>bed_bath_table</td>\n",
              "      <td>43.00</td>\n",
              "      <td>1</td>\n",
              "      <td>credit_card</td>\n",
              "      <td>55.79</td>\n",
              "      <td>delivered</td>\n",
              "      <td>botucatu</td>\n",
              "      <td>SP</td>\n",
              "      <td>5.0</td>\n",
              "    </tr>\n",
              "  </tbody>\n",
              "</table>\n",
              "<p>100961 rows × 11 columns</p>\n",
              "</div>\n",
              "      <button class=\"colab-df-convert\" onclick=\"convertToInteractive('df-5ac6cc4c-f82f-4308-bdc2-d159bbebf76a')\"\n",
              "              title=\"Convert this dataframe to an interactive table.\"\n",
              "              style=\"display:none;\">\n",
              "\n",
              "  <svg xmlns=\"http://www.w3.org/2000/svg\" height=\"24px\"viewBox=\"0 0 24 24\"\n",
              "       width=\"24px\">\n",
              "    <path d=\"M0 0h24v24H0V0z\" fill=\"none\"/>\n",
              "    <path d=\"M18.56 5.44l.94 2.06.94-2.06 2.06-.94-2.06-.94-.94-2.06-.94 2.06-2.06.94zm-11 1L8.5 8.5l.94-2.06 2.06-.94-2.06-.94L8.5 2.5l-.94 2.06-2.06.94zm10 10l.94 2.06.94-2.06 2.06-.94-2.06-.94-.94-2.06-.94 2.06-2.06.94z\"/><path d=\"M17.41 7.96l-1.37-1.37c-.4-.4-.92-.59-1.43-.59-.52 0-1.04.2-1.43.59L10.3 9.45l-7.72 7.72c-.78.78-.78 2.05 0 2.83L4 21.41c.39.39.9.59 1.41.59.51 0 1.02-.2 1.41-.59l7.78-7.78 2.81-2.81c.8-.78.8-2.07 0-2.86zM5.41 20L4 18.59l7.72-7.72 1.47 1.35L5.41 20z\"/>\n",
              "  </svg>\n",
              "      </button>\n",
              "\n",
              "\n",
              "\n",
              "    <div id=\"df-6db6bc22-3ce7-4fe6-a512-21bb9790c3b7\">\n",
              "      <button class=\"colab-df-quickchart\" onclick=\"quickchart('df-6db6bc22-3ce7-4fe6-a512-21bb9790c3b7')\"\n",
              "              title=\"Suggest charts.\"\n",
              "              style=\"display:none;\">\n",
              "\n",
              "<svg xmlns=\"http://www.w3.org/2000/svg\" height=\"24px\"viewBox=\"0 0 24 24\"\n",
              "     width=\"24px\">\n",
              "    <g>\n",
              "        <path d=\"M19 3H5c-1.1 0-2 .9-2 2v14c0 1.1.9 2 2 2h14c1.1 0 2-.9 2-2V5c0-1.1-.9-2-2-2zM9 17H7v-7h2v7zm4 0h-2V7h2v10zm4 0h-2v-4h2v4z\"/>\n",
              "    </g>\n",
              "</svg>\n",
              "      </button>\n",
              "    </div>\n",
              "\n",
              "<style>\n",
              "  .colab-df-quickchart {\n",
              "    background-color: #E8F0FE;\n",
              "    border: none;\n",
              "    border-radius: 50%;\n",
              "    cursor: pointer;\n",
              "    display: none;\n",
              "    fill: #1967D2;\n",
              "    height: 32px;\n",
              "    padding: 0 0 0 0;\n",
              "    width: 32px;\n",
              "  }\n",
              "\n",
              "  .colab-df-quickchart:hover {\n",
              "    background-color: #E2EBFA;\n",
              "    box-shadow: 0px 1px 2px rgba(60, 64, 67, 0.3), 0px 1px 3px 1px rgba(60, 64, 67, 0.15);\n",
              "    fill: #174EA6;\n",
              "  }\n",
              "\n",
              "  [theme=dark] .colab-df-quickchart {\n",
              "    background-color: #3B4455;\n",
              "    fill: #D2E3FC;\n",
              "  }\n",
              "\n",
              "  [theme=dark] .colab-df-quickchart:hover {\n",
              "    background-color: #434B5C;\n",
              "    box-shadow: 0px 1px 3px 1px rgba(0, 0, 0, 0.15);\n",
              "    filter: drop-shadow(0px 1px 2px rgba(0, 0, 0, 0.3));\n",
              "    fill: #FFFFFF;\n",
              "  }\n",
              "</style>\n",
              "\n",
              "    <script>\n",
              "      async function quickchart(key) {\n",
              "        const containerElement = document.querySelector('#' + key);\n",
              "        const charts = await google.colab.kernel.invokeFunction(\n",
              "            'suggestCharts', [key], {});\n",
              "      }\n",
              "    </script>\n",
              "\n",
              "      <script>\n",
              "\n",
              "function displayQuickchartButton(domScope) {\n",
              "  let quickchartButtonEl =\n",
              "    domScope.querySelector('#df-6db6bc22-3ce7-4fe6-a512-21bb9790c3b7 button.colab-df-quickchart');\n",
              "  quickchartButtonEl.style.display =\n",
              "    google.colab.kernel.accessAllowed ? 'block' : 'none';\n",
              "}\n",
              "\n",
              "        displayQuickchartButton(document);\n",
              "      </script>\n",
              "      <style>\n",
              "    .colab-df-container {\n",
              "      display:flex;\n",
              "      flex-wrap:wrap;\n",
              "      gap: 12px;\n",
              "    }\n",
              "\n",
              "    .colab-df-convert {\n",
              "      background-color: #E8F0FE;\n",
              "      border: none;\n",
              "      border-radius: 50%;\n",
              "      cursor: pointer;\n",
              "      display: none;\n",
              "      fill: #1967D2;\n",
              "      height: 32px;\n",
              "      padding: 0 0 0 0;\n",
              "      width: 32px;\n",
              "    }\n",
              "\n",
              "    .colab-df-convert:hover {\n",
              "      background-color: #E2EBFA;\n",
              "      box-shadow: 0px 1px 2px rgba(60, 64, 67, 0.3), 0px 1px 3px 1px rgba(60, 64, 67, 0.15);\n",
              "      fill: #174EA6;\n",
              "    }\n",
              "\n",
              "    [theme=dark] .colab-df-convert {\n",
              "      background-color: #3B4455;\n",
              "      fill: #D2E3FC;\n",
              "    }\n",
              "\n",
              "    [theme=dark] .colab-df-convert:hover {\n",
              "      background-color: #434B5C;\n",
              "      box-shadow: 0px 1px 3px 1px rgba(0, 0, 0, 0.15);\n",
              "      filter: drop-shadow(0px 1px 2px rgba(0, 0, 0, 0.3));\n",
              "      fill: #FFFFFF;\n",
              "    }\n",
              "  </style>\n",
              "\n",
              "      <script>\n",
              "        const buttonEl =\n",
              "          document.querySelector('#df-5ac6cc4c-f82f-4308-bdc2-d159bbebf76a button.colab-df-convert');\n",
              "        buttonEl.style.display =\n",
              "          google.colab.kernel.accessAllowed ? 'block' : 'none';\n",
              "\n",
              "        async function convertToInteractive(key) {\n",
              "          const element = document.querySelector('#df-5ac6cc4c-f82f-4308-bdc2-d159bbebf76a');\n",
              "          const dataTable =\n",
              "            await google.colab.kernel.invokeFunction('convertToInteractive',\n",
              "                                                     [key], {});\n",
              "          if (!dataTable) return;\n",
              "\n",
              "          const docLinkHtml = 'Like what you see? Visit the ' +\n",
              "            '<a target=\"_blank\" href=https://colab.research.google.com/notebooks/data_table.ipynb>data table notebook</a>'\n",
              "            + ' to learn more about interactive tables.';\n",
              "          element.innerHTML = '';\n",
              "          dataTable['output_type'] = 'display_data';\n",
              "          await google.colab.output.renderOutput(dataTable, element);\n",
              "          const docLink = document.createElement('div');\n",
              "          docLink.innerHTML = docLinkHtml;\n",
              "          element.appendChild(docLink);\n",
              "        }\n",
              "      </script>\n",
              "    </div>\n",
              "  </div>\n"
            ]
          },
          "metadata": {},
          "execution_count": 45
        }
      ]
    },
    {
      "cell_type": "code",
      "source": [
        "#Sum up the price per cateogry product to calculate the revenue\n",
        "\n",
        "net_revenue = delivered_products.groupby('product_cat')['price'].sum().sort_values(ascending = False)\n",
        "\n",
        "# # net_revenue\n",
        "pd.DataFrame(net_revenue)"
      ],
      "metadata": {
        "colab": {
          "base_uri": "https://localhost:8080/",
          "height": 455
        },
        "id": "qyTeTuUVwASU",
        "outputId": "26279194-d7c8-4f52-d13e-2cbc2f4a7e13"
      },
      "execution_count": null,
      "outputs": [
        {
          "output_type": "execute_result",
          "data": {
            "text/plain": [
              "                               price\n",
              "product_cat                         \n",
              "bed_bath_table             998785.37\n",
              "health_beauty              796062.74\n",
              "sports_leisure             770313.86\n",
              "computers_accessories      716293.09\n",
              "furniture_decor            679777.13\n",
              "...                              ...\n",
              "cds_dvds_musicals             730.00\n",
              "fashion_childrens_clothes     519.95\n",
              "home_comfort_2                424.87\n",
              "security_and_services         283.29\n",
              "computers                      34.50\n",
              "\n",
              "[71 rows x 1 columns]"
            ],
            "text/html": [
              "\n",
              "\n",
              "  <div id=\"df-c7e358e9-cfad-45c2-b3d3-2e95784fb8a1\">\n",
              "    <div class=\"colab-df-container\">\n",
              "      <div>\n",
              "<style scoped>\n",
              "    .dataframe tbody tr th:only-of-type {\n",
              "        vertical-align: middle;\n",
              "    }\n",
              "\n",
              "    .dataframe tbody tr th {\n",
              "        vertical-align: top;\n",
              "    }\n",
              "\n",
              "    .dataframe thead th {\n",
              "        text-align: right;\n",
              "    }\n",
              "</style>\n",
              "<table border=\"1\" class=\"dataframe\">\n",
              "  <thead>\n",
              "    <tr style=\"text-align: right;\">\n",
              "      <th></th>\n",
              "      <th>price</th>\n",
              "    </tr>\n",
              "    <tr>\n",
              "      <th>product_cat</th>\n",
              "      <th></th>\n",
              "    </tr>\n",
              "  </thead>\n",
              "  <tbody>\n",
              "    <tr>\n",
              "      <th>bed_bath_table</th>\n",
              "      <td>998785.37</td>\n",
              "    </tr>\n",
              "    <tr>\n",
              "      <th>health_beauty</th>\n",
              "      <td>796062.74</td>\n",
              "    </tr>\n",
              "    <tr>\n",
              "      <th>sports_leisure</th>\n",
              "      <td>770313.86</td>\n",
              "    </tr>\n",
              "    <tr>\n",
              "      <th>computers_accessories</th>\n",
              "      <td>716293.09</td>\n",
              "    </tr>\n",
              "    <tr>\n",
              "      <th>furniture_decor</th>\n",
              "      <td>679777.13</td>\n",
              "    </tr>\n",
              "    <tr>\n",
              "      <th>...</th>\n",
              "      <td>...</td>\n",
              "    </tr>\n",
              "    <tr>\n",
              "      <th>cds_dvds_musicals</th>\n",
              "      <td>730.00</td>\n",
              "    </tr>\n",
              "    <tr>\n",
              "      <th>fashion_childrens_clothes</th>\n",
              "      <td>519.95</td>\n",
              "    </tr>\n",
              "    <tr>\n",
              "      <th>home_comfort_2</th>\n",
              "      <td>424.87</td>\n",
              "    </tr>\n",
              "    <tr>\n",
              "      <th>security_and_services</th>\n",
              "      <td>283.29</td>\n",
              "    </tr>\n",
              "    <tr>\n",
              "      <th>computers</th>\n",
              "      <td>34.50</td>\n",
              "    </tr>\n",
              "  </tbody>\n",
              "</table>\n",
              "<p>71 rows × 1 columns</p>\n",
              "</div>\n",
              "      <button class=\"colab-df-convert\" onclick=\"convertToInteractive('df-c7e358e9-cfad-45c2-b3d3-2e95784fb8a1')\"\n",
              "              title=\"Convert this dataframe to an interactive table.\"\n",
              "              style=\"display:none;\">\n",
              "\n",
              "  <svg xmlns=\"http://www.w3.org/2000/svg\" height=\"24px\"viewBox=\"0 0 24 24\"\n",
              "       width=\"24px\">\n",
              "    <path d=\"M0 0h24v24H0V0z\" fill=\"none\"/>\n",
              "    <path d=\"M18.56 5.44l.94 2.06.94-2.06 2.06-.94-2.06-.94-.94-2.06-.94 2.06-2.06.94zm-11 1L8.5 8.5l.94-2.06 2.06-.94-2.06-.94L8.5 2.5l-.94 2.06-2.06.94zm10 10l.94 2.06.94-2.06 2.06-.94-2.06-.94-.94-2.06-.94 2.06-2.06.94z\"/><path d=\"M17.41 7.96l-1.37-1.37c-.4-.4-.92-.59-1.43-.59-.52 0-1.04.2-1.43.59L10.3 9.45l-7.72 7.72c-.78.78-.78 2.05 0 2.83L4 21.41c.39.39.9.59 1.41.59.51 0 1.02-.2 1.41-.59l7.78-7.78 2.81-2.81c.8-.78.8-2.07 0-2.86zM5.41 20L4 18.59l7.72-7.72 1.47 1.35L5.41 20z\"/>\n",
              "  </svg>\n",
              "      </button>\n",
              "\n",
              "\n",
              "\n",
              "    <div id=\"df-4e9efee2-e1f8-476e-8f8d-9fcb73e6aa6a\">\n",
              "      <button class=\"colab-df-quickchart\" onclick=\"quickchart('df-4e9efee2-e1f8-476e-8f8d-9fcb73e6aa6a')\"\n",
              "              title=\"Suggest charts.\"\n",
              "              style=\"display:none;\">\n",
              "\n",
              "<svg xmlns=\"http://www.w3.org/2000/svg\" height=\"24px\"viewBox=\"0 0 24 24\"\n",
              "     width=\"24px\">\n",
              "    <g>\n",
              "        <path d=\"M19 3H5c-1.1 0-2 .9-2 2v14c0 1.1.9 2 2 2h14c1.1 0 2-.9 2-2V5c0-1.1-.9-2-2-2zM9 17H7v-7h2v7zm4 0h-2V7h2v10zm4 0h-2v-4h2v4z\"/>\n",
              "    </g>\n",
              "</svg>\n",
              "      </button>\n",
              "    </div>\n",
              "\n",
              "<style>\n",
              "  .colab-df-quickchart {\n",
              "    background-color: #E8F0FE;\n",
              "    border: none;\n",
              "    border-radius: 50%;\n",
              "    cursor: pointer;\n",
              "    display: none;\n",
              "    fill: #1967D2;\n",
              "    height: 32px;\n",
              "    padding: 0 0 0 0;\n",
              "    width: 32px;\n",
              "  }\n",
              "\n",
              "  .colab-df-quickchart:hover {\n",
              "    background-color: #E2EBFA;\n",
              "    box-shadow: 0px 1px 2px rgba(60, 64, 67, 0.3), 0px 1px 3px 1px rgba(60, 64, 67, 0.15);\n",
              "    fill: #174EA6;\n",
              "  }\n",
              "\n",
              "  [theme=dark] .colab-df-quickchart {\n",
              "    background-color: #3B4455;\n",
              "    fill: #D2E3FC;\n",
              "  }\n",
              "\n",
              "  [theme=dark] .colab-df-quickchart:hover {\n",
              "    background-color: #434B5C;\n",
              "    box-shadow: 0px 1px 3px 1px rgba(0, 0, 0, 0.15);\n",
              "    filter: drop-shadow(0px 1px 2px rgba(0, 0, 0, 0.3));\n",
              "    fill: #FFFFFF;\n",
              "  }\n",
              "</style>\n",
              "\n",
              "    <script>\n",
              "      async function quickchart(key) {\n",
              "        const containerElement = document.querySelector('#' + key);\n",
              "        const charts = await google.colab.kernel.invokeFunction(\n",
              "            'suggestCharts', [key], {});\n",
              "      }\n",
              "    </script>\n",
              "\n",
              "      <script>\n",
              "\n",
              "function displayQuickchartButton(domScope) {\n",
              "  let quickchartButtonEl =\n",
              "    domScope.querySelector('#df-4e9efee2-e1f8-476e-8f8d-9fcb73e6aa6a button.colab-df-quickchart');\n",
              "  quickchartButtonEl.style.display =\n",
              "    google.colab.kernel.accessAllowed ? 'block' : 'none';\n",
              "}\n",
              "\n",
              "        displayQuickchartButton(document);\n",
              "      </script>\n",
              "      <style>\n",
              "    .colab-df-container {\n",
              "      display:flex;\n",
              "      flex-wrap:wrap;\n",
              "      gap: 12px;\n",
              "    }\n",
              "\n",
              "    .colab-df-convert {\n",
              "      background-color: #E8F0FE;\n",
              "      border: none;\n",
              "      border-radius: 50%;\n",
              "      cursor: pointer;\n",
              "      display: none;\n",
              "      fill: #1967D2;\n",
              "      height: 32px;\n",
              "      padding: 0 0 0 0;\n",
              "      width: 32px;\n",
              "    }\n",
              "\n",
              "    .colab-df-convert:hover {\n",
              "      background-color: #E2EBFA;\n",
              "      box-shadow: 0px 1px 2px rgba(60, 64, 67, 0.3), 0px 1px 3px 1px rgba(60, 64, 67, 0.15);\n",
              "      fill: #174EA6;\n",
              "    }\n",
              "\n",
              "    [theme=dark] .colab-df-convert {\n",
              "      background-color: #3B4455;\n",
              "      fill: #D2E3FC;\n",
              "    }\n",
              "\n",
              "    [theme=dark] .colab-df-convert:hover {\n",
              "      background-color: #434B5C;\n",
              "      box-shadow: 0px 1px 3px 1px rgba(0, 0, 0, 0.15);\n",
              "      filter: drop-shadow(0px 1px 2px rgba(0, 0, 0, 0.3));\n",
              "      fill: #FFFFFF;\n",
              "    }\n",
              "  </style>\n",
              "\n",
              "      <script>\n",
              "        const buttonEl =\n",
              "          document.querySelector('#df-c7e358e9-cfad-45c2-b3d3-2e95784fb8a1 button.colab-df-convert');\n",
              "        buttonEl.style.display =\n",
              "          google.colab.kernel.accessAllowed ? 'block' : 'none';\n",
              "\n",
              "        async function convertToInteractive(key) {\n",
              "          const element = document.querySelector('#df-c7e358e9-cfad-45c2-b3d3-2e95784fb8a1');\n",
              "          const dataTable =\n",
              "            await google.colab.kernel.invokeFunction('convertToInteractive',\n",
              "                                                     [key], {});\n",
              "          if (!dataTable) return;\n",
              "\n",
              "          const docLinkHtml = 'Like what you see? Visit the ' +\n",
              "            '<a target=\"_blank\" href=https://colab.research.google.com/notebooks/data_table.ipynb>data table notebook</a>'\n",
              "            + ' to learn more about interactive tables.';\n",
              "          element.innerHTML = '';\n",
              "          dataTable['output_type'] = 'display_data';\n",
              "          await google.colab.output.renderOutput(dataTable, element);\n",
              "          const docLink = document.createElement('div');\n",
              "          docLink.innerHTML = docLinkHtml;\n",
              "          element.appendChild(docLink);\n",
              "        }\n",
              "      </script>\n",
              "    </div>\n",
              "  </div>\n"
            ]
          },
          "metadata": {},
          "execution_count": 46
        }
      ]
    },
    {
      "cell_type": "code",
      "source": [
        "#Visualisizing the highets revenue per product category\n",
        "\n",
        "# Defining numbers for highest revenue per product category\n",
        "highest_rev =net_revenue.head(5).sort_values()\n",
        "\n",
        "# Defining the colour map for color of the bars\n",
        "cmap = plt.cm.get_cmap('autumn')\n",
        "\n",
        "# Creating a gradiant colour based on numbers for highest revenue per product category\n",
        "colors = np.linspace(1, 0.1, 5)\n",
        "\n",
        "# Creating the bar plot\n",
        "plt.figure(figsize=(15, 5)) #define the scale of the figure\n",
        "bars = plt.barh(highest_rev.index,\n",
        "                highest_rev.values,\n",
        "                color=cmap(colors)) #creating the bars by assigning the defined value\n",
        "bars[-1].set_color('r') #distincts the lowest revenue\n",
        "\n",
        "# Annottating the value for each bar\n",
        "for i, v in zip(highest_rev.index, highest_rev.values):\n",
        "    plt.text(v, i, int(v), ha= 'left', va='center', fontsize=8)\n",
        "\n",
        "# Completing the figure labels\n",
        "plt.xlabel('Revenue Value')\n",
        "plt.ylabel('Product Category')\n",
        "plt.title(f'Highest Revenue per Products Category')\n",
        "plt.tight_layout()\n",
        "\n",
        "# Displaying the bar plot\n",
        "plt.show()"
      ],
      "metadata": {
        "colab": {
          "base_uri": "https://localhost:8080/",
          "height": 463
        },
        "id": "pkVd2ThC14v9",
        "outputId": "787f89ce-e6c7-4127-a7a6-7da17fa0ad5d"
      },
      "execution_count": null,
      "outputs": [
        {
          "output_type": "stream",
          "name": "stderr",
          "text": [
            "<ipython-input-47-f60311c762f7>:7: MatplotlibDeprecationWarning: The get_cmap function was deprecated in Matplotlib 3.7 and will be removed two minor releases later. Use ``matplotlib.colormaps[name]`` or ``matplotlib.colormaps.get_cmap(obj)`` instead.\n",
            "  cmap = plt.cm.get_cmap('autumn')\n"
          ]
        },
        {
          "output_type": "display_data",
          "data": {
            "text/plain": [
              "<Figure size 1500x500 with 1 Axes>"
            ],
            "image/png": "[encoded data removed]"
          },
          "metadata": {}
        }
      ]
    },
    {
      "cell_type": "code",
      "source": [
        "# Defining numbers for highest revenue per product category\n",
        "highest_rev =net_revenue.tail(5)\n",
        "\n",
        "\n",
        "# Creating the bar plot\n",
        "plt.figure(figsize=(15, 5)) #define the scale of the figure\n",
        "bars = plt.barh(highest_rev.index,\n",
        "                highest_rev.values,\n",
        "                color='gray') #creating the bars by assigning the defined value\n",
        "bars[-1].set_color('r') #distincts the higehst revenue\n",
        "\n",
        "# Annottating the value for each bar\n",
        "for i, v in zip(highest_rev.index, highest_rev.values):\n",
        "    plt.text(v, i, int(v), ha= 'left', va='center', fontsize=8)\n",
        "\n",
        "# Completing the figure labels\n",
        "plt.xlabel('Revenue Value')\n",
        "plt.ylabel('Product Category')\n",
        "plt.title(f'Lowest Revenue per Products Category')\n",
        "plt.tight_layout()\n",
        "\n",
        "# Displaying the bar plot\n",
        "plt.show()"
      ],
      "metadata": {
        "colab": {
          "base_uri": "https://localhost:8080/",
          "height": 527
        },
        "id": "ZbF2zPzrXmmX",
        "outputId": "36bb80e1-f106-4bae-8fc2-f1b3d8722792"
      },
      "execution_count": null,
      "outputs": [
        {
          "output_type": "display_data",
          "data": {
            "text/plain": [
              "<Figure size 1500x500 with 1 Axes>"
            ],
            "image/png": "[encoded data removed]"
          },
          "metadata": {}
        }
      ]
    },
    {
      "cell_type": "code",
      "source": [],
      "metadata": {
        "id": "i2rJPgZub0DJ"
      },
      "execution_count": null,
      "outputs": []
    },
    {
      "cell_type": "code",
      "source": [],
      "metadata": {
        "id": "dPMEpOlyb0cw"
      },
      "execution_count": null,
      "outputs": []
    },
    {
      "cell_type": "markdown",
      "source": [
        "# **Objective 3: Unavailable and Most Cancelled Product**"
      ],
      "metadata": {
        "id": "rkc5b_2zHMwG"
      }
    },
    {
      "cell_type": "code",
      "source": [
        "#Looking for most unavailable products:\n",
        "unavailable_products = df_cleaned[df_cleaned['order_status']=='unavailable'].groupby('product_cat')['order_status'].count()\n",
        "\n",
        "pd.DataFrame(unavailable_products) #previewing tha data\n",
        "# unavailable_products.sum() > to sum up the count of the unavailable product"
      ],
      "metadata": {
        "colab": {
          "base_uri": "https://localhost:8080/",
          "height": 206
        },
        "id": "pemhxRY8yG1o",
        "outputId": "5735e831-32a3-4275-d475-94fa1d4d9357"
      },
      "execution_count": null,
      "outputs": [
        {
          "output_type": "execute_result",
          "data": {
            "text/plain": [
              "             order_status\n",
              "product_cat              \n",
              "auto                    1\n",
              "baby                    2\n",
              "cool_stuff              1\n",
              "perfumery               2"
            ],
            "text/html": [
              "\n",
              "\n",
              "  <div id=\"df-70b7140d-6b67-4493-a95f-7b74bfce461e\">\n",
              "    <div class=\"colab-df-container\">\n",
              "      <div>\n",
              "<style scoped>\n",
              "    .dataframe tbody tr th:only-of-type {\n",
              "        vertical-align: middle;\n",
              "    }\n",
              "\n",
              "    .dataframe tbody tr th {\n",
              "        vertical-align: top;\n",
              "    }\n",
              "\n",
              "    .dataframe thead th {\n",
              "        text-align: right;\n",
              "    }\n",
              "</style>\n",
              "<table border=\"1\" class=\"dataframe\">\n",
              "  <thead>\n",
              "    <tr style=\"text-align: right;\">\n",
              "      <th></th>\n",
              "      <th>order_status</th>\n",
              "    </tr>\n",
              "    <tr>\n",
              "      <th>product_cat</th>\n",
              "      <th></th>\n",
              "    </tr>\n",
              "  </thead>\n",
              "  <tbody>\n",
              "    <tr>\n",
              "      <th>auto</th>\n",
              "      <td>1</td>\n",
              "    </tr>\n",
              "    <tr>\n",
              "      <th>baby</th>\n",
              "      <td>2</td>\n",
              "    </tr>\n",
              "    <tr>\n",
              "      <th>cool_stuff</th>\n",
              "      <td>1</td>\n",
              "    </tr>\n",
              "    <tr>\n",
              "      <th>perfumery</th>\n",
              "      <td>2</td>\n",
              "    </tr>\n",
              "  </tbody>\n",
              "</table>\n",
              "</div>\n",
              "      <button class=\"colab-df-convert\" onclick=\"convertToInteractive('df-70b7140d-6b67-4493-a95f-7b74bfce461e')\"\n",
              "              title=\"Convert this dataframe to an interactive table.\"\n",
              "              style=\"display:none;\">\n",
              "\n",
              "  <svg xmlns=\"http://www.w3.org/2000/svg\" height=\"24px\"viewBox=\"0 0 24 24\"\n",
              "       width=\"24px\">\n",
              "    <path d=\"M0 0h24v24H0V0z\" fill=\"none\"/>\n",
              "    <path d=\"M18.56 5.44l.94 2.06.94-2.06 2.06-.94-2.06-.94-.94-2.06-.94 2.06-2.06.94zm-11 1L8.5 8.5l.94-2.06 2.06-.94-2.06-.94L8.5 2.5l-.94 2.06-2.06.94zm10 10l.94 2.06.94-2.06 2.06-.94-2.06-.94-.94-2.06-.94 2.06-2.06.94z\"/><path d=\"M17.41 7.96l-1.37-1.37c-.4-.4-.92-.59-1.43-.59-.52 0-1.04.2-1.43.59L10.3 9.45l-7.72 7.72c-.78.78-.78 2.05 0 2.83L4 21.41c.39.39.9.59 1.41.59.51 0 1.02-.2 1.41-.59l7.78-7.78 2.81-2.81c.8-.78.8-2.07 0-2.86zM5.41 20L4 18.59l7.72-7.72 1.47 1.35L5.41 20z\"/>\n",
              "  </svg>\n",
              "      </button>\n",
              "\n",
              "\n",
              "\n",
              "    <div id=\"df-566ca50c-d65c-4634-8abe-22bc714c7a83\">\n",
              "      <button class=\"colab-df-quickchart\" onclick=\"quickchart('df-566ca50c-d65c-4634-8abe-22bc714c7a83')\"\n",
              "              title=\"Suggest charts.\"\n",
              "              style=\"display:none;\">\n",
              "\n",
              "<svg xmlns=\"http://www.w3.org/2000/svg\" height=\"24px\"viewBox=\"0 0 24 24\"\n",
              "     width=\"24px\">\n",
              "    <g>\n",
              "        <path d=\"M19 3H5c-1.1 0-2 .9-2 2v14c0 1.1.9 2 2 2h14c1.1 0 2-.9 2-2V5c0-1.1-.9-2-2-2zM9 17H7v-7h2v7zm4 0h-2V7h2v10zm4 0h-2v-4h2v4z\"/>\n",
              "    </g>\n",
              "</svg>\n",
              "      </button>\n",
              "    </div>\n",
              "\n",
              "<style>\n",
              "  .colab-df-quickchart {\n",
              "    background-color: #E8F0FE;\n",
              "    border: none;\n",
              "    border-radius: 50%;\n",
              "    cursor: pointer;\n",
              "    display: none;\n",
              "    fill: #1967D2;\n",
              "    height: 32px;\n",
              "    padding: 0 0 0 0;\n",
              "    width: 32px;\n",
              "  }\n",
              "\n",
              "  .colab-df-quickchart:hover {\n",
              "    background-color: #E2EBFA;\n",
              "    box-shadow: 0px 1px 2px rgba(60, 64, 67, 0.3), 0px 1px 3px 1px rgba(60, 64, 67, 0.15);\n",
              "    fill: #174EA6;\n",
              "  }\n",
              "\n",
              "  [theme=dark] .colab-df-quickchart {\n",
              "    background-color: #3B4455;\n",
              "    fill: #D2E3FC;\n",
              "  }\n",
              "\n",
              "  [theme=dark] .colab-df-quickchart:hover {\n",
              "    background-color: #434B5C;\n",
              "    box-shadow: 0px 1px 3px 1px rgba(0, 0, 0, 0.15);\n",
              "    filter: drop-shadow(0px 1px 2px rgba(0, 0, 0, 0.3));\n",
              "    fill: #FFFFFF;\n",
              "  }\n",
              "</style>\n",
              "\n",
              "    <script>\n",
              "      async function quickchart(key) {\n",
              "        const containerElement = document.querySelector('#' + key);\n",
              "        const charts = await google.colab.kernel.invokeFunction(\n",
              "            'suggestCharts', [key], {});\n",
              "      }\n",
              "    </script>\n",
              "\n",
              "      <script>\n",
              "\n",
              "function displayQuickchartButton(domScope) {\n",
              "  let quickchartButtonEl =\n",
              "    domScope.querySelector('#df-566ca50c-d65c-4634-8abe-22bc714c7a83 button.colab-df-quickchart');\n",
              "  quickchartButtonEl.style.display =\n",
              "    google.colab.kernel.accessAllowed ? 'block' : 'none';\n",
              "}\n",
              "\n",
              "        displayQuickchartButton(document);\n",
              "      </script>\n",
              "      <style>\n",
              "    .colab-df-container {\n",
              "      display:flex;\n",
              "      flex-wrap:wrap;\n",
              "      gap: 12px;\n",
              "    }\n",
              "\n",
              "    .colab-df-convert {\n",
              "      background-color: #E8F0FE;\n",
              "      border: none;\n",
              "      border-radius: 50%;\n",
              "      cursor: pointer;\n",
              "      display: none;\n",
              "      fill: #1967D2;\n",
              "      height: 32px;\n",
              "      padding: 0 0 0 0;\n",
              "      width: 32px;\n",
              "    }\n",
              "\n",
              "    .colab-df-convert:hover {\n",
              "      background-color: #E2EBFA;\n",
              "      box-shadow: 0px 1px 2px rgba(60, 64, 67, 0.3), 0px 1px 3px 1px rgba(60, 64, 67, 0.15);\n",
              "      fill: #174EA6;\n",
              "    }\n",
              "\n",
              "    [theme=dark] .colab-df-convert {\n",
              "      background-color: #3B4455;\n",
              "      fill: #D2E3FC;\n",
              "    }\n",
              "\n",
              "    [theme=dark] .colab-df-convert:hover {\n",
              "      background-color: #434B5C;\n",
              "      box-shadow: 0px 1px 3px 1px rgba(0, 0, 0, 0.15);\n",
              "      filter: drop-shadow(0px 1px 2px rgba(0, 0, 0, 0.3));\n",
              "      fill: #FFFFFF;\n",
              "    }\n",
              "  </style>\n",
              "\n",
              "      <script>\n",
              "        const buttonEl =\n",
              "          document.querySelector('#df-70b7140d-6b67-4493-a95f-7b74bfce461e button.colab-df-convert');\n",
              "        buttonEl.style.display =\n",
              "          google.colab.kernel.accessAllowed ? 'block' : 'none';\n",
              "\n",
              "        async function convertToInteractive(key) {\n",
              "          const element = document.querySelector('#df-70b7140d-6b67-4493-a95f-7b74bfce461e');\n",
              "          const dataTable =\n",
              "            await google.colab.kernel.invokeFunction('convertToInteractive',\n",
              "                                                     [key], {});\n",
              "          if (!dataTable) return;\n",
              "\n",
              "          const docLinkHtml = 'Like what you see? Visit the ' +\n",
              "            '<a target=\"_blank\" href=https://colab.research.google.com/notebooks/data_table.ipynb>data table notebook</a>'\n",
              "            + ' to learn more about interactive tables.';\n",
              "          element.innerHTML = '';\n",
              "          dataTable['output_type'] = 'display_data';\n",
              "          await google.colab.output.renderOutput(dataTable, element);\n",
              "          const docLink = document.createElement('div');\n",
              "          docLink.innerHTML = docLinkHtml;\n",
              "          element.appendChild(docLink);\n",
              "        }\n",
              "      </script>\n",
              "    </div>\n",
              "  </div>\n"
            ]
          },
          "metadata": {},
          "execution_count": 48
        }
      ]
    },
    {
      "cell_type": "code",
      "source": [
        "#Looking for most cancelled product category\n",
        "canceled_products = df_cleaned[df_cleaned['order_status']=='canceled'].groupby('product_cat')['order_status'].count().sort_values(ascending=False)\n",
        "\n",
        "# pd.DataFrame(canceled_products) #previewing the data\n",
        "# canceled_products.sum() > to sum up the count of cancelled product category"
      ],
      "metadata": {
        "id": "n-rvQcgAOeS1"
      },
      "execution_count": null,
      "outputs": []
    },
    {
      "cell_type": "code",
      "source": [
        "#Visualisizing the most cancelled product category\n",
        "\n",
        "# Defining numbers for highest revenue per product category\n",
        "highest_cancelled = canceled_products.head(5).sort_values()\n",
        "\n",
        "# Defining the colour map for color of the bars\n",
        "cmap = plt.cm.get_cmap('autumn')\n",
        "\n",
        "# Creating a gradiant colour\n",
        "colors = np.linspace(1, 0.1, 5)\n",
        "\n",
        "# Creating the bar plot\n",
        "plt.figure(figsize=(10, 5)) #define the scale of the figure\n",
        "bars = plt.barh(highest_cancelled.index,\n",
        "                highest_cancelled.values,\n",
        "                color=cmap(colors)) #creating the bars by assigning the defined value\n",
        "bars[-1].set_color('r') #distincts the higehst revenue\n",
        "\n",
        "# Annottating the value for each bar\n",
        "for i, v in zip(highest_cancelled.index, highest_cancelled.values):\n",
        "    plt.text(v, i, int(v), ha= 'left', va='center', fontsize=8)\n",
        "\n",
        "# Completing the figure labels\n",
        "plt.xlabel('Total of Cancels')\n",
        "plt.ylabel('Product Category')\n",
        "plt.title(f'Most Cancelled Products Category')\n",
        "plt.tight_layout()\n",
        "\n",
        "# Displaying the bar plot\n",
        "plt.show()"
      ],
      "metadata": {
        "colab": {
          "base_uri": "https://localhost:8080/",
          "height": 562
        },
        "id": "5dCxPVpSO6I7",
        "outputId": "ea55aff5-4a6d-4817-99a8-46f4a240293f"
      },
      "execution_count": null,
      "outputs": [
        {
          "output_type": "stream",
          "name": "stderr",
          "text": [
            "<ipython-input-51-c46d24d6928a>:7: MatplotlibDeprecationWarning: The get_cmap function was deprecated in Matplotlib 3.7 and will be removed two minor releases later. Use ``matplotlib.colormaps[name]`` or ``matplotlib.colormaps.get_cmap(obj)`` instead.\n",
            "  cmap = plt.cm.get_cmap('autumn')\n"
          ]
        },
        {
          "output_type": "display_data",
          "data": {
            "text/plain": [
              "<Figure size 1000x500 with 1 Axes>"
            ],
            "image/png": "[encoded data removed]"
          },
          "metadata": {}
        }
      ]
    },
    {
      "cell_type": "code",
      "source": [],
      "metadata": {
        "id": "vfTAOnkZcAXY"
      },
      "execution_count": null,
      "outputs": []
    },
    {
      "cell_type": "code",
      "source": [],
      "metadata": {
        "id": "4Lqg9ZH9cAjl"
      },
      "execution_count": null,
      "outputs": []
    },
    {
      "cell_type": "markdown",
      "source": [
        "# **Objective 4: Most Loyal Customer**"
      ],
      "metadata": {
        "id": "51S24dHXbt50"
      }
    },
    {
      "cell_type": "code",
      "source": [
        "# df_cleaned['customer_state'].unique()\n",
        "\n",
        "cust_state = df_cleaned.groupby(['customer_state'])['order_id'].count().sort_values(ascending=False)"
      ],
      "metadata": {
        "id": "Ejud82NdZrpM"
      },
      "execution_count": null,
      "outputs": []
    },
    {
      "cell_type": "code",
      "source": [
        "#Visualisizing the most loyal customer based on the state origin\n",
        "\n",
        "# Defining numbers for state origin of customer\n",
        "top_cust_state = cust_state.head(5).sort_values()\n",
        "\n",
        "# Defining the colour map for color of the bars\n",
        "cmap = plt.cm.get_cmap('Pastel1')\n",
        "\n",
        "# Creating a gradiant colour\n",
        "colors = np.linspace(0.8, 0.25, 5)\n",
        "\n",
        "# Creating the bar plot\n",
        "plt.figure(figsize=(10, 5)) #define the scale of the figure\n",
        "bars = plt.barh(top_cust_state.index,\n",
        "                top_cust_state.values,\n",
        "                color=cmap(colors)) #creating the bars by assigning the defined value\n",
        "bars[-1].set_color('b') #distincts the highest value\n",
        "\n",
        "# Annottating the value for each bar\n",
        "for i, v in zip(top_cust_state.index, top_cust_state.values):\n",
        "    plt.text(v, i, int(v), ha= 'left', va='center', fontsize=8)\n",
        "\n",
        "\n",
        "# Completing the figure labels\n",
        "plt.xlabel('Count of Order')\n",
        "plt.ylabel('State')\n",
        "plt.title(f'Top 5 State Origin of Customer ')\n",
        "plt.tight_layout()\n",
        "\n",
        "# Displaying the bar plot\n",
        "plt.show()"
      ],
      "metadata": {
        "colab": {
          "base_uri": "https://localhost:8080/",
          "height": 562
        },
        "id": "EQRAOIbfcu1m",
        "outputId": "88e0ea17-09b7-4c19-fa96-7ad474d900a7"
      },
      "execution_count": null,
      "outputs": [
        {
          "output_type": "stream",
          "name": "stderr",
          "text": [
            "<ipython-input-53-cf967f1e459a>:7: MatplotlibDeprecationWarning: The get_cmap function was deprecated in Matplotlib 3.7 and will be removed two minor releases later. Use ``matplotlib.colormaps[name]`` or ``matplotlib.colormaps.get_cmap(obj)`` instead.\n",
            "  cmap = plt.cm.get_cmap('Pastel1')\n"
          ]
        },
        {
          "output_type": "display_data",
          "data": {
            "text/plain": [
              "<Figure size 1000x500 with 1 Axes>"
            ],
            "image/png": "[encoded data removed]"
          },
          "metadata": {}
        }
      ]
    },
    {
      "cell_type": "markdown",
      "source": [
        "# Product Analysist on Specific Market (Sao Paolo Cases)"
      ],
      "metadata": {
        "id": "FJvAJq9qj2wD"
      }
    },
    {
      "cell_type": "markdown",
      "source": [
        "Review Score of Most Ordered Product"
      ],
      "metadata": {
        "id": "qjqWfh70qZC3"
      }
    },
    {
      "cell_type": "code",
      "source": [
        "#Selecting the specific customer state Sao Paolo (SP)\n",
        "sp_state_data = df_cleaned[df_cleaned['customer_state']=='SP']\n",
        "\n",
        "#Grouping the product category\n",
        "sp_prod  = sp_state_data.groupby('product_cat')['order_id'].count().sort_values(ascending=False).head(6)\n",
        "\n",
        "sp_prod"
      ],
      "metadata": {
        "colab": {
          "base_uri": "https://localhost:8080/"
        },
        "id": "9I14PZimgawG",
        "outputId": "615bb171-566d-4875-e8df-26826e9e533b"
      },
      "execution_count": null,
      "outputs": [
        {
          "output_type": "execute_result",
          "data": {
            "text/plain": [
              "product_cat\n",
              "bed_bath_table           5281\n",
              "health_beauty            3769\n",
              "furniture_decor          3446\n",
              "sports_leisure           3445\n",
              "computers_accessories    3024\n",
              "housewares               3012\n",
              "Name: order_id, dtype: int64"
            ]
          },
          "metadata": {},
          "execution_count": 58
        }
      ]
    },
    {
      "cell_type": "code",
      "source": [
        "#Visualisizing the score review percentages\n",
        "\n",
        "#Defining the rate of review score\n",
        "rate = [1, 2, 3, 4, 5]\n",
        "\n",
        "#Counting the review score per rate\n",
        "sp_percentage_review = sp_state_data.groupby('review_score')['review_score'].count()\n",
        "\n",
        "# Creating a gradiant colour\n",
        "cmap = plt.cm.get_cmap('autumn')\n",
        "colors_set = np.linspace(0.9, 0.4, 5)\n",
        "\n",
        "#Separator\n",
        "explode_set = (0.3, 0, 0, 0, 0)\n",
        "\n",
        "#Creating a pie plot\n",
        "fig, ax = plt.subplots(figsize=(6, 6)) #setting the fig/ax scale\n",
        "ax.pie(sp_percentage_review,\n",
        "        colors= cmap(colors_set),\n",
        "        autopct=\"%.1f%%\",\n",
        "        pctdistance= 0.80,\n",
        "        explode = explode_set)\n",
        "\n",
        "#Adding a donut effect\n",
        "center_pie = plt.Circle((0, 0), 0.55, fc= 'white')\n",
        "fig.gca().add_artist(center_pie)\n",
        "\n",
        "#Ncompleting the title and legen\n",
        "plt.title(\"The Percentages of Review Score by Sao Paolo Customer\")\n",
        "plt.legend(rate,\n",
        "           loc='upper left',\n",
        "           title='Review Score')\n",
        "\n",
        "#Showing the label\n",
        "plt.show()"
      ],
      "metadata": {
        "colab": {
          "base_uri": "https://localhost:8080/",
          "height": 576
        },
        "id": "T8oaPhSCwmRC",
        "outputId": "8b475533-08bd-4df5-a94b-dfa8736598f2"
      },
      "execution_count": null,
      "outputs": [
        {
          "output_type": "stream",
          "name": "stderr",
          "text": [
            "<ipython-input-69-a2c113121e1e>:10: MatplotlibDeprecationWarning: The get_cmap function was deprecated in Matplotlib 3.7 and will be removed two minor releases later. Use ``matplotlib.colormaps[name]`` or ``matplotlib.colormaps.get_cmap(obj)`` instead.\n",
            "  cmap = plt.cm.get_cmap('autumn')\n"
          ]
        },
        {
          "output_type": "display_data",
          "data": {
            "text/plain": [
              "<Figure size 600x600 with 1 Axes>"
            ],
            "image/png": "[encoded data removed]"
          },
          "metadata": {}
        }
      ]
    },
    {
      "cell_type": "code",
      "source": [
        "#Counting the review score greater than 3 for each product category\n",
        "sp_good_review = sp_state_data[sp_state_data['review_score'] > 3].groupby('product_cat')['review_score'].count().sort_values(ascending=False)\n",
        "\n",
        "#Top 6 good reviewed products\n",
        "sp_good_review = pd.DataFrame(sp_good_review).head(6)\n",
        "\n",
        "#Reset the index, rename the column, to join the dataframe\n",
        "sp_good_review.reset_index(inplace=True)\n",
        "sp_good_review.rename(columns ={'review_score':'good_review'}, inplace=True)"
      ],
      "metadata": {
        "id": "ceqv9yXvhizk"
      },
      "execution_count": null,
      "outputs": []
    },
    {
      "cell_type": "code",
      "source": [
        "#counting the review score less and equals to 3 for each product category\n",
        "sp_bad_review = sp_state_data[sp_state_data['review_score'] <= 3].groupby('product_cat')['review_score'].count().sort_values(ascending=False)\n",
        "\n",
        "#Top 6 Bad Reviewed Product\n",
        "sp_bad_review = pd.DataFrame(sp_bad_review).head(6)\n",
        "\n",
        "#Reset the index and rename the column to merge the dataframe\n",
        "sp_bad_review.reset_index(inplace=True)\n",
        "sp_bad_review.rename(columns = {'review_score':'bad_review'}, inplace=True)\n"
      ],
      "metadata": {
        "id": "J_ZWTQVtkgY_"
      },
      "execution_count": null,
      "outputs": []
    },
    {
      "cell_type": "code",
      "source": [
        "#Merging the two former dataframe\n",
        "ratio_score_review = pd.merge(sp_bad_review, sp_good_review, on='product_cat').sort_values('good_review')\n",
        "\n",
        "col = []\n",
        "for x, y in zip(ratio_score_review['bad_review'], ratio_score_review['good_review']):\n",
        "  z = f'{round(x/(x+y) *100, 1)}%'\n",
        "  col.append(z)\n",
        "\n",
        "ratio_score_review['ratio_bad_score'] = col\n",
        "\n",
        "ratio_score_review"
      ],
      "metadata": {
        "id": "iwCdy9A9nwa3",
        "colab": {
          "base_uri": "https://localhost:8080/",
          "height": 238
        },
        "outputId": "0529c6f9-841f-4295-8b85-a4760ba82092"
      },
      "execution_count": null,
      "outputs": [
        {
          "output_type": "execute_result",
          "data": {
            "text/plain": [
              "             product_cat  bad_review  good_review ratio_bad_score\n",
              "2  computers_accessories         772         2252           25.5%\n",
              "5             housewares         590         2422           19.6%\n",
              "1        furniture_decor         832         2614           24.1%\n",
              "4         sports_leisure         687         2758           19.9%\n",
              "3          health_beauty         725         3044           19.2%\n",
              "0         bed_bath_table        1347         3934           25.5%"
            ],
            "text/html": [
              "\n",
              "\n",
              "  <div id=\"df-2ccbd797-980b-4cdd-97c2-9ba84a3583c1\">\n",
              "    <div class=\"colab-df-container\">\n",
              "      <div>\n",
              "<style scoped>\n",
              "    .dataframe tbody tr th:only-of-type {\n",
              "        vertical-align: middle;\n",
              "    }\n",
              "\n",
              "    .dataframe tbody tr th {\n",
              "        vertical-align: top;\n",
              "    }\n",
              "\n",
              "    .dataframe thead th {\n",
              "        text-align: right;\n",
              "    }\n",
              "</style>\n",
              "<table border=\"1\" class=\"dataframe\">\n",
              "  <thead>\n",
              "    <tr style=\"text-align: right;\">\n",
              "      <th></th>\n",
              "      <th>product_cat</th>\n",
              "      <th>bad_review</th>\n",
              "      <th>good_review</th>\n",
              "      <th>ratio_bad_score</th>\n",
              "    </tr>\n",
              "  </thead>\n",
              "  <tbody>\n",
              "    <tr>\n",
              "      <th>2</th>\n",
              "      <td>computers_accessories</td>\n",
              "      <td>772</td>\n",
              "      <td>2252</td>\n",
              "      <td>25.5%</td>\n",
              "    </tr>\n",
              "    <tr>\n",
              "      <th>5</th>\n",
              "      <td>housewares</td>\n",
              "      <td>590</td>\n",
              "      <td>2422</td>\n",
              "      <td>19.6%</td>\n",
              "    </tr>\n",
              "    <tr>\n",
              "      <th>1</th>\n",
              "      <td>furniture_decor</td>\n",
              "      <td>832</td>\n",
              "      <td>2614</td>\n",
              "      <td>24.1%</td>\n",
              "    </tr>\n",
              "    <tr>\n",
              "      <th>4</th>\n",
              "      <td>sports_leisure</td>\n",
              "      <td>687</td>\n",
              "      <td>2758</td>\n",
              "      <td>19.9%</td>\n",
              "    </tr>\n",
              "    <tr>\n",
              "      <th>3</th>\n",
              "      <td>health_beauty</td>\n",
              "      <td>725</td>\n",
              "      <td>3044</td>\n",
              "      <td>19.2%</td>\n",
              "    </tr>\n",
              "    <tr>\n",
              "      <th>0</th>\n",
              "      <td>bed_bath_table</td>\n",
              "      <td>1347</td>\n",
              "      <td>3934</td>\n",
              "      <td>25.5%</td>\n",
              "    </tr>\n",
              "  </tbody>\n",
              "</table>\n",
              "</div>\n",
              "      <button class=\"colab-df-convert\" onclick=\"convertToInteractive('df-2ccbd797-980b-4cdd-97c2-9ba84a3583c1')\"\n",
              "              title=\"Convert this dataframe to an interactive table.\"\n",
              "              style=\"display:none;\">\n",
              "\n",
              "  <svg xmlns=\"http://www.w3.org/2000/svg\" height=\"24px\"viewBox=\"0 0 24 24\"\n",
              "       width=\"24px\">\n",
              "    <path d=\"M0 0h24v24H0V0z\" fill=\"none\"/>\n",
              "    <path d=\"M18.56 5.44l.94 2.06.94-2.06 2.06-.94-2.06-.94-.94-2.06-.94 2.06-2.06.94zm-11 1L8.5 8.5l.94-2.06 2.06-.94-2.06-.94L8.5 2.5l-.94 2.06-2.06.94zm10 10l.94 2.06.94-2.06 2.06-.94-2.06-.94-.94-2.06-.94 2.06-2.06.94z\"/><path d=\"M17.41 7.96l-1.37-1.37c-.4-.4-.92-.59-1.43-.59-.52 0-1.04.2-1.43.59L10.3 9.45l-7.72 7.72c-.78.78-.78 2.05 0 2.83L4 21.41c.39.39.9.59 1.41.59.51 0 1.02-.2 1.41-.59l7.78-7.78 2.81-2.81c.8-.78.8-2.07 0-2.86zM5.41 20L4 18.59l7.72-7.72 1.47 1.35L5.41 20z\"/>\n",
              "  </svg>\n",
              "      </button>\n",
              "\n",
              "\n",
              "\n",
              "    <div id=\"df-0e6bf31d-6b6c-4b73-9d55-c18d0d1abac9\">\n",
              "      <button class=\"colab-df-quickchart\" onclick=\"quickchart('df-0e6bf31d-6b6c-4b73-9d55-c18d0d1abac9')\"\n",
              "              title=\"Suggest charts.\"\n",
              "              style=\"display:none;\">\n",
              "\n",
              "<svg xmlns=\"http://www.w3.org/2000/svg\" height=\"24px\"viewBox=\"0 0 24 24\"\n",
              "     width=\"24px\">\n",
              "    <g>\n",
              "        <path d=\"M19 3H5c-1.1 0-2 .9-2 2v14c0 1.1.9 2 2 2h14c1.1 0 2-.9 2-2V5c0-1.1-.9-2-2-2zM9 17H7v-7h2v7zm4 0h-2V7h2v10zm4 0h-2v-4h2v4z\"/>\n",
              "    </g>\n",
              "</svg>\n",
              "      </button>\n",
              "    </div>\n",
              "\n",
              "<style>\n",
              "  .colab-df-quickchart {\n",
              "    background-color: #E8F0FE;\n",
              "    border: none;\n",
              "    border-radius: 50%;\n",
              "    cursor: pointer;\n",
              "    display: none;\n",
              "    fill: #1967D2;\n",
              "    height: 32px;\n",
              "    padding: 0 0 0 0;\n",
              "    width: 32px;\n",
              "  }\n",
              "\n",
              "  .colab-df-quickchart:hover {\n",
              "    background-color: #E2EBFA;\n",
              "    box-shadow: 0px 1px 2px rgba(60, 64, 67, 0.3), 0px 1px 3px 1px rgba(60, 64, 67, 0.15);\n",
              "    fill: #174EA6;\n",
              "  }\n",
              "\n",
              "  [theme=dark] .colab-df-quickchart {\n",
              "    background-color: #3B4455;\n",
              "    fill: #D2E3FC;\n",
              "  }\n",
              "\n",
              "  [theme=dark] .colab-df-quickchart:hover {\n",
              "    background-color: #434B5C;\n",
              "    box-shadow: 0px 1px 3px 1px rgba(0, 0, 0, 0.15);\n",
              "    filter: drop-shadow(0px 1px 2px rgba(0, 0, 0, 0.3));\n",
              "    fill: #FFFFFF;\n",
              "  }\n",
              "</style>\n",
              "\n",
              "    <script>\n",
              "      async function quickchart(key) {\n",
              "        const containerElement = document.querySelector('#' + key);\n",
              "        const charts = await google.colab.kernel.invokeFunction(\n",
              "            'suggestCharts', [key], {});\n",
              "      }\n",
              "    </script>\n",
              "\n",
              "      <script>\n",
              "\n",
              "function displayQuickchartButton(domScope) {\n",
              "  let quickchartButtonEl =\n",
              "    domScope.querySelector('#df-0e6bf31d-6b6c-4b73-9d55-c18d0d1abac9 button.colab-df-quickchart');\n",
              "  quickchartButtonEl.style.display =\n",
              "    google.colab.kernel.accessAllowed ? 'block' : 'none';\n",
              "}\n",
              "\n",
              "        displayQuickchartButton(document);\n",
              "      </script>\n",
              "      <style>\n",
              "    .colab-df-container {\n",
              "      display:flex;\n",
              "      flex-wrap:wrap;\n",
              "      gap: 12px;\n",
              "    }\n",
              "\n",
              "    .colab-df-convert {\n",
              "      background-color: #E8F0FE;\n",
              "      border: none;\n",
              "      border-radius: 50%;\n",
              "      cursor: pointer;\n",
              "      display: none;\n",
              "      fill: #1967D2;\n",
              "      height: 32px;\n",
              "      padding: 0 0 0 0;\n",
              "      width: 32px;\n",
              "    }\n",
              "\n",
              "    .colab-df-convert:hover {\n",
              "      background-color: #E2EBFA;\n",
              "      box-shadow: 0px 1px 2px rgba(60, 64, 67, 0.3), 0px 1px 3px 1px rgba(60, 64, 67, 0.15);\n",
              "      fill: #174EA6;\n",
              "    }\n",
              "\n",
              "    [theme=dark] .colab-df-convert {\n",
              "      background-color: #3B4455;\n",
              "      fill: #D2E3FC;\n",
              "    }\n",
              "\n",
              "    [theme=dark] .colab-df-convert:hover {\n",
              "      background-color: #434B5C;\n",
              "      box-shadow: 0px 1px 3px 1px rgba(0, 0, 0, 0.15);\n",
              "      filter: drop-shadow(0px 1px 2px rgba(0, 0, 0, 0.3));\n",
              "      fill: #FFFFFF;\n",
              "    }\n",
              "  </style>\n",
              "\n",
              "      <script>\n",
              "        const buttonEl =\n",
              "          document.querySelector('#df-2ccbd797-980b-4cdd-97c2-9ba84a3583c1 button.colab-df-convert');\n",
              "        buttonEl.style.display =\n",
              "          google.colab.kernel.accessAllowed ? 'block' : 'none';\n",
              "\n",
              "        async function convertToInteractive(key) {\n",
              "          const element = document.querySelector('#df-2ccbd797-980b-4cdd-97c2-9ba84a3583c1');\n",
              "          const dataTable =\n",
              "            await google.colab.kernel.invokeFunction('convertToInteractive',\n",
              "                                                     [key], {});\n",
              "          if (!dataTable) return;\n",
              "\n",
              "          const docLinkHtml = 'Like what you see? Visit the ' +\n",
              "            '<a target=\"_blank\" href=https://colab.research.google.com/notebooks/data_table.ipynb>data table notebook</a>'\n",
              "            + ' to learn more about interactive tables.';\n",
              "          element.innerHTML = '';\n",
              "          dataTable['output_type'] = 'display_data';\n",
              "          await google.colab.output.renderOutput(dataTable, element);\n",
              "          const docLink = document.createElement('div');\n",
              "          docLink.innerHTML = docLinkHtml;\n",
              "          element.appendChild(docLink);\n",
              "        }\n",
              "      </script>\n",
              "    </div>\n",
              "  </div>\n"
            ]
          },
          "metadata": {},
          "execution_count": 91
        }
      ]
    },
    {
      "cell_type": "code",
      "source": [
        "#Creating the grouped bar comparing the good review and bad review of each most ordered product\n",
        "\n",
        "#define the number of needed grouped bar\n",
        "x = np.arange(len(ratio_score_review['product_cat']))\n",
        "\n",
        "#setting the width of grouped bar\n",
        "width = 0.40\n",
        "\n",
        "#setting the grouped bar\n",
        "plt.barh(x-width/2, ratio_score_review['bad_review'].values, width, label= 'Bad Review Score')\n",
        "plt.barh(x+width/2, ratio_score_review['good_review'].values, width, label= 'Good Review Score')\n",
        "\n",
        "#assigning the label on y axis\n",
        "plt.yticks(x, ratio_score_review['product_cat'].values)\n",
        "\n",
        "#completing the label\n",
        "plt.xlabel('Count of Review Score')\n",
        "plt.ylabel('Product Category')\n",
        "plt.title('Count of Bad Review and Good Review of Most Ordered Product Category in Sao Paolo')\n",
        "plt.legend()\n",
        "\n",
        "#showing the label\n",
        "plt.show()\n"
      ],
      "metadata": {
        "colab": {
          "base_uri": "https://localhost:8080/",
          "height": 472
        },
        "id": "QhO0ddF3YG-5",
        "outputId": "7930043d-bd37-420b-a30d-626fca1697c3"
      },
      "execution_count": null,
      "outputs": [
        {
          "output_type": "display_data",
          "data": {
            "text/plain": [
              "<Figure size 640x480 with 1 Axes>"
            ],
            "image/png": "[encoded data removed]"
          },
          "metadata": {}
        }
      ]
    },
    {
      "cell_type": "markdown",
      "source": [
        "# **ANALISIS**"
      ],
      "metadata": {
        "id": "6LOT86c8PnW4"
      }
    },
    {
      "cell_type": "markdown",
      "source": [
        "1. Bed Bath Table merupakan kategori produk yang memiliki pesanana terbesar di Olyst Marketplace sebesar 11.268 pesanan, mengungguli jauh produk-produk di bawahnya dengan margin hampir 3.000 pesanan. Sementara itu, computers menjadi kategori produk dengan pesanan terkecil hanya 1 pesanan. 4 kategori lain juga mencatatkan jumlah pesanan yang sangat kecil di bawah 15 pesanan. Dari hasil ini, maka optimisasi penjualan dapat dilakukan dengan menutup penjualan pada jenis-jenis produk dengan pesanan yang minim.\n",
        "\n",
        "2. Berdasarkan jumlah pesanan yang berhasil diterima oleh customer, maka penjualan bersih terbesar direpresentasikan pula oleh kategori Bed Bath Table dengan angka sekitar 998.785. Sementara itu, revenue terkecil juga mdirepresentasikan dengan jumlah pesanan terkecil yang sama, setidaknya 3 urutan terbawah dengan value penjualan kurang dari 500.\n",
        "\n",
        "3. Sejauh ini, penjualan barang di Olist Marketplace secara keseluruhan sudah baik dalam hal ketersediaan stok karena hany ada 6 produk dengan status tidak tersedia, yakni masing-masing 1 dari kategori Auto dan kategori Cool Stuff, dan masing-masing 2 dari kategori Baby dan Perfumery\n",
        "\n",
        "4. Kategori produk yang sering dibatalkan oleh consumer adalah kategori Hosewares sebanyak 48 order, diikuti oleh Sport Leisure sebanyak 46 order. Kuantitas pembatasaln produk tidak terlalu signifikan.\n",
        "\n",
        "5. Customer terbesar berasal dari Sao Paolo (SP) dengan lebih dari 43.000 order. Jumlah yang sangat signifikan dibanding kota lain. Urutan kedua Rio de Janeiro bahkan hanya memiliki 13.000 an order. Maka, optimisasi penjualan dapat dilakukan dengan marketing dan insentifikasi yang besar di wilayah ini.\n",
        "\n",
        "6. Kategori Produk yang paling besar dipesan oleh Customer dari Sao Paolo juga cukup representatif dengan kategori produks dipesan paling banyak secara general.\n",
        "\n",
        "7. Meski secara umum penialian customer baik, penilaian dengan skor 1 juga cukup tinggi dengan 10% lebih, bahkan lebih besar daripada skor 2 dan skor 3.\n",
        "\n",
        "8. Jika penilain review dikategorikan menjadi Good Review dan Bad Review, maka 5 kategori produk tertinggi memiliki rasio Bad Review yang cukup besar (antara 19-26%). Maka perlu upaya untuk mempertahankan kualitas kategori produk hingga ke tangan customer."
      ],
      "metadata": {
        "id": "jF8w3t1JB7IQ"
      }
    }
  ],
  "metadata": {
    "colab": {
      "provenance": [],
      "mount_file_id": "1yCOHBU4MC7ndCGBiCF6A2lZ_SFZg8vWJ",
      "authorship_tag": "ABX9TyMh3bdQyqnemRUZCkPfTx1k"
    },
    "kernelspec": {
      "display_name": "Python 3",
      "name": "python3"
    },
    "language_info": {
      "name": "python"
    }
  },
  "nbformat": 4,
  "nbformat_minor": 0
}